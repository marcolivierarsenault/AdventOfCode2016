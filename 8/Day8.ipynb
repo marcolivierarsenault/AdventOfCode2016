{
 "cells": [
  {
   "cell_type": "markdown",
   "metadata": {},
   "source": [
    "# Advent of code Day 8\n",
    "\n",
    "Goal: Matrix playing, image display\n",
    "\n",
    "Ref: http://adventofcode.com/2016/day/8"
   ]
  },
  {
   "cell_type": "code",
   "execution_count": 8,
   "metadata": {
    "collapsed": false
   },
   "outputs": [],
   "source": [
    "suppressMessages(library(binhf))\n",
    "library(foreach)"
   ]
  },
  {
   "cell_type": "code",
   "execution_count": 2,
   "metadata": {
    "collapsed": false
   },
   "outputs": [],
   "source": [
    "screen <- matrix(0, nrow=6, ncol=50)"
   ]
  },
  {
   "cell_type": "code",
   "execution_count": 3,
   "metadata": {
    "collapsed": false
   },
   "outputs": [],
   "source": [
    "commands <- readLines(\"data.txt\")"
   ]
  },
  {
   "cell_type": "code",
   "execution_count": 4,
   "metadata": {
    "collapsed": false
   },
   "outputs": [],
   "source": [
    "# Use shift lib to do the rotates\n",
    "dump <- foreach(x=commands) %do% {\n",
    "    if(startsWith(x,\"rect\")){\n",
    "        size<-strsplit(x, ' ')\n",
    "        xy <- strsplit(size[[1]][2], 'x')\n",
    "        x <- xy[[1]][2]\n",
    "        y <- xy[[1]][1]\n",
    "        screen[0:x,0:y] = 1\n",
    "        screen\n",
    "    }\n",
    "    else if (startsWith(x,\"rotate column x=\")){        \n",
    "        size<-strsplit(x, '=')\n",
    "        xy <- strsplit(size[[1]][2], ' ')\n",
    "        col <- as.integer(xy[[1]][1])+1\n",
    "        y <- as.integer(xy[[1]][3])\n",
    "        screen[,col] = shift(screen[,col],y)\n",
    "        screen        \n",
    "    }\n",
    "    else if (startsWith(x,\"rotate row y=\")){\n",
    "        size<-strsplit(x, '=')\n",
    "        xy <- strsplit(size[[1]][2], ' ')\n",
    "        row <- as.integer(xy[[1]][1])+1\n",
    "        y <- as.integer(xy[[1]][3])\n",
    "        screen[row,] = shift(screen[row,],y)\n",
    "        screen \n",
    "    }\n",
    "}"
   ]
  },
  {
   "cell_type": "code",
   "execution_count": 5,
   "metadata": {
    "collapsed": false
   },
   "outputs": [
    {
     "data": {
      "text/html": [
       "106"
      ],
      "text/latex": [
       "106"
      ],
      "text/markdown": [
       "106"
      ],
      "text/plain": [
       "[1] 106"
      ]
     },
     "metadata": {},
     "output_type": "display_data"
    }
   ],
   "source": [
    "sum(screen)"
   ]
  },
  {
   "cell_type": "code",
   "execution_count": 6,
   "metadata": {
    "collapsed": false
   },
   "outputs": [],
   "source": [
    "#Modify data and prepare parameter to show image\n",
    "cols <- c(\n",
    "'0' = \"#FFFFFF\",\n",
    "'1' = \"#000000\"\n",
    ")\n",
    "mm <- apply((screen), 2, rev)"
   ]
  },
  {
   "cell_type": "code",
   "execution_count": 7,
   "metadata": {
    "collapsed": false
   },
   "outputs": [
    {
     "data": {
      "text/html": [
       "\"Q1 - There is  106  bright pixels on the screen\""
      ],
      "text/latex": [
       "\"Q1 - There is  106  bright pixels on the screen\""
      ],
      "text/markdown": [
       "\"Q1 - There is  106  bright pixels on the screen\""
      ],
      "text/plain": [
       "[1] \"Q1 - There is  106  bright pixels on the screen\""
      ]
     },
     "metadata": {},
     "output_type": "display_data"
    },
    {
     "data": {
      "text/html": [
       "\"Q2 - The screen output is: \""
      ],
      "text/latex": [
       "\"Q2 - The screen output is: \""
      ],
      "text/markdown": [
       "\"Q2 - The screen output is: \""
      ],
      "text/plain": [
       "[1] \"Q2 - The screen output is: \""
      ]
     },
     "metadata": {},
     "output_type": "display_data"
    },
    {
     "data": {
      "image/png": "[encoded data removed]",
      "text/plain": [
       "plot without title"
      ]
     },
     "metadata": {},
     "output_type": "display_data"
    }
   ],
   "source": [
    "paste(\"Q1 - There is \", sum(screen), \" bright pixels on the screen\")\n",
    "paste(\"Q2 - The screen output is: \")\n",
    "image(t(mm), col=cols, xaxt=\"n\",asp=6/50, yaxt=\"n\", bty=\"n\", )"
   ]
  }
 ],
 "metadata": {
  "anaconda-cloud": {},
  "kernelspec": {
   "display_name": "R",
   "language": "R",
   "name": "ir"
  },
  "language_info": {
   "codemirror_mode": "r",
   "file_extension": ".r",
   "mimetype": "text/x-r-source",
   "name": "R",
   "pygments_lexer": "r",
   "version": "3.3.1"
  }
 },
 "nbformat": 4,
 "nbformat_minor": 1
}
