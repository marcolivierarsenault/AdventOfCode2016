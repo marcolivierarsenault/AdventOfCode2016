{
 "cells": [
  {
   "cell_type": "markdown",
   "metadata": {},
   "source": [
    "# Advent of code Day 16\n",
    "\n",
    "Goal: Creating carbage Data and counting hash\n",
    "\n",
    "Ref: http://adventofcode.com/2016/day/16"
   ]
  },
  {
   "cell_type": "code",
   "execution_count": 1,
   "metadata": {
    "collapsed": true
   },
   "outputs": [],
   "source": [
    "library(stringr)\n",
    "library(plyr)"
   ]
  },
  {
   "cell_type": "code",
   "execution_count": 2,
   "metadata": {
    "collapsed": false
   },
   "outputs": [],
   "source": [
    "Q1original <- as.integer(str_split(\"01111010110010011\",\"\")[[1]])\n",
    "Q1originalLength <- 272"
   ]
  },
  {
   "cell_type": "code",
   "execution_count": 3,
   "metadata": {
    "collapsed": true
   },
   "outputs": [],
   "source": [
    "Q2original <- as.integer(str_split(\"01111010110010011\",\"\")[[1]])\n",
    "Q2originalLength <- 35651584"
   ]
  },
  {
   "cell_type": "code",
   "execution_count": 4,
   "metadata": {
    "collapsed": true
   },
   "outputs": [],
   "source": [
    "slice <- function(input, by=2){ \n",
    "  starts <- seq(1,length(input),by)\n",
    "  tt <- lapply(starts, function(y) input[y:(y+(by-1))])\n",
    "  llply(tt, function(x) x[!is.na(x)])\n",
    "}"
   ]
  },
  {
   "cell_type": "code",
   "execution_count": 5,
   "metadata": {
    "collapsed": false
   },
   "outputs": [],
   "source": [
    "processData <- function(original ,originalLength){\n",
    "    data <- original\n",
    "    while(length(data)<originalLength){\n",
    "        a <- data\n",
    "        b <- a\n",
    "        b <- rev(b)\n",
    "        b <- (b+1)%%2\n",
    "        data <- c(a,c(0),b)\n",
    "    }\n",
    "\n",
    "    officialData <- data[0:originalLength]\n",
    "    chkSum <- officialData\n",
    "    ll <- length(chkSum)\n",
    "\n",
    "    while(ll%%2==0){\n",
    "        ll <- ll/2\n",
    "    }\n",
    "    awnser <- slice(chkSum, length(chkSum)/ll)\n",
    "    resultQ1 <- sapply(awnser,function(x) {(sum(x)+1)%%2})\n",
    "    paste(resultQ1,collapse=\"\")\n",
    "}"
   ]
  },
  {
   "cell_type": "code",
   "execution_count": 6,
   "metadata": {
    "collapsed": false
   },
   "outputs": [
    {
     "data": {
      "text/html": [
       "\"00100111000101111\""
      ],
      "text/latex": [
       "\"00100111000101111\""
      ],
      "text/markdown": [
       "\"00100111000101111\""
      ],
      "text/plain": [
       "[1] \"00100111000101111\""
      ]
     },
     "metadata": {},
     "output_type": "display_data"
    }
   ],
   "source": [
    "Q1 <- processData(Q1original,Q1originalLength)\n",
    "Q1"
   ]
  },
  {
   "cell_type": "code",
   "execution_count": 7,
   "metadata": {
    "collapsed": false
   },
   "outputs": [
    {
     "data": {
      "text/html": [
       "\"11101110011100110\""
      ],
      "text/latex": [
       "\"11101110011100110\""
      ],
      "text/markdown": [
       "\"11101110011100110\""
      ],
      "text/plain": [
       "[1] \"11101110011100110\""
      ]
     },
     "metadata": {},
     "output_type": "display_data"
    }
   ],
   "source": [
    "Q2 <- processData(Q2original,Q2originalLength)\n",
    "Q2"
   ]
  },
  {
   "cell_type": "code",
   "execution_count": 8,
   "metadata": {
    "collapsed": false
   },
   "outputs": [
    {
     "name": "stdout",
     "output_type": "stream",
     "text": [
      "Q1 - The Checksum for the first dataset is =  00100111000101111 \n",
      "Q2 - The Checksum for the second dataset is =  11101110011100110 \n"
     ]
    }
   ],
   "source": [
    "cat(\"Q1 - The Checksum for the first dataset is = \", Q1, '\\n')\n",
    "cat(\"Q2 - The Checksum for the second dataset is = \", Q2, '\\n')"
   ]
  }
 ],
 "metadata": {
  "anaconda-cloud": {},
  "kernelspec": {
   "display_name": "R",
   "language": "R",
   "name": "ir"
  },
  "language_info": {
   "codemirror_mode": "r",
   "file_extension": ".r",
   "mimetype": "text/x-r-source",
   "name": "R",
   "pygments_lexer": "r",
   "version": "3.3.1"
  }
 },
 "nbformat": 4,
 "nbformat_minor": 1
}
