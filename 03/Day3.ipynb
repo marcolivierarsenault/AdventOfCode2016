{
 "cells": [
  {
   "cell_type": "markdown",
   "metadata": {},
   "source": [
    "# Advent of code Day 3\n",
    "\n",
    "Goal: List possible triangles in an array of numbers\n",
    "\n",
    "Ref: http://adventofcode.com/2016/day/3"
   ]
  },
  {
   "cell_type": "code",
   "execution_count": 1,
   "metadata": {
    "collapsed": false
   },
   "outputs": [
    {
     "name": "stdout",
     "output_type": "stream",
     "text": [
      "'data.frame':\t1911 obs. of  3 variables:\n",
      " $ V1: int  541 827 660 39 229 237 898 101 813 603 ...\n",
      " $ V2: int  588 272 514 703 871 956 566 79 541 135 ...\n",
      " $ V3: int  421 126 367 839 3 841 112 112 146 565 ...\n"
     ]
    }
   ],
   "source": [
    "data <- read.table(\"data.txt\") #Using dataframe to align data\n",
    "str(data)"
   ]
  },
  {
   "cell_type": "code",
   "execution_count": 2,
   "metadata": {
    "collapsed": false
   },
   "outputs": [],
   "source": [
    "data$possible <- apply(data, 1, function(x) {t <- sort(x); (t[1]+t[2]) > t[3]}) #Creating new column with the possible value"
   ]
  },
  {
   "cell_type": "markdown",
   "metadata": {
    "collapsed": true
   },
   "source": [
    "For Q2 we recreate a new dataframe to work with rows like in Q1. To do so we use to original colum to create a new matrix"
   ]
  },
  {
   "cell_type": "code",
   "execution_count": 3,
   "metadata": {
    "collapsed": false
   },
   "outputs": [
    {
     "name": "stdout",
     "output_type": "stream",
     "text": [
      "'data.frame':\t1911 obs. of  3 variables:\n",
      " $ X1: int  541 39 898 603 545 370 656 504 197 604 ...\n",
      " $ X2: int  827 229 101 335 657 101 634 760 357 90 ...\n",
      " $ X3: int  660 237 813 382 823 295 819 733 544 609 ...\n"
     ]
    }
   ],
   "source": [
    "data2 <- data.frame(do.call(rbind, lapply(data[,1:3], matrix, ncol = 3, byrow=T)))\n",
    "str(data2)"
   ]
  },
  {
   "cell_type": "code",
   "execution_count": 4,
   "metadata": {
    "collapsed": false
   },
   "outputs": [],
   "source": [
    "data2$possible <- apply(data2, 1, function(x) {t <- sort(x); (t[1]+t[2]) > t[3]})"
   ]
  },
  {
   "cell_type": "code",
   "execution_count": 5,
   "metadata": {
    "collapsed": false
   },
   "outputs": [
    {
     "name": "stdout",
     "output_type": "stream",
     "text": [
      "Q1 - The number of possible triangles by row is:  993 \n",
      "Q2 - The number of possible triangles by column is:  1849 \n"
     ]
    }
   ],
   "source": [
    "cat(\"Q1 - The number of possible triangles by row is: \", sum(data$possible), '\\n')\n",
    "cat(\"Q2 - The number of possible triangles by column is: \", sum(data2$possible), '\\n')"
   ]
  }
 ],
 "metadata": {
  "anaconda-cloud": {},
  "kernelspec": {
   "display_name": "R",
   "language": "R",
   "name": "ir"
  },
  "language_info": {
   "codemirror_mode": "r",
   "file_extension": ".r",
   "mimetype": "text/x-r-source",
   "name": "R",
   "pygments_lexer": "r",
   "version": "3.3.1"
  }
 },
 "nbformat": 4,
 "nbformat_minor": 1
}
