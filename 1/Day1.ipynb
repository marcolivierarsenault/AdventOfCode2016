{
 "cells": [
  {
   "cell_type": "code",
   "execution_count": 1,
   "metadata": {
    "collapsed": true
   },
   "outputs": [],
   "source": [
    "library(foreach)"
   ]
  },
  {
   "cell_type": "code",
   "execution_count": 2,
   "metadata": {
    "collapsed": false
   },
   "outputs": [
    {
     "data": {
      "text/html": [
       "<table>\n",
       "<thead><tr><th></th><th scope=col>V1</th><th scope=col>V2</th><th scope=col>V3</th><th scope=col>V4</th><th scope=col>V5</th><th scope=col>V6</th><th scope=col>V7</th><th scope=col>V8</th><th scope=col>V9</th><th scope=col>V10</th><th scope=col>...</th><th scope=col>V140</th><th scope=col>V141</th><th scope=col>V142</th><th scope=col>V143</th><th scope=col>V144</th><th scope=col>V145</th><th scope=col>V146</th><th scope=col>V147</th><th scope=col>V148</th><th scope=col>V149</th></tr></thead>\n",
       "<tbody>\n",
       "\t<tr><th scope=row>1</th><td>R5 </td><td> L2</td><td> L1</td><td> R1</td><td> R3</td><td> R3</td><td> L3</td><td> R3</td><td> R4</td><td> L2</td><td>...</td><td> R1</td><td> R2</td><td> R2</td><td> R2</td><td> L1</td><td> L1</td><td> L2</td><td> L5</td><td> L3</td><td> L1</td></tr>\n",
       "</tbody>\n",
       "</table>\n"
      ],
      "text/latex": [
       "\\begin{tabular}{r|lllllllllllllllllllllllllllllllllllllllllllllllllllllllllllllllllllllllllllllllllllllllllllllllllllllllllllllllllllllllllllllllllllllllllllllllllllll}\n",
       "  & V1 & V2 & V3 & V4 & V5 & V6 & V7 & V8 & V9 & V10 & ... & V140 & V141 & V142 & V143 & V144 & V145 & V146 & V147 & V148 & V149\\\\\n",
       "\\hline\n",
       "\t1 & R5  &  L2 &  L1 &  R1 &  R3 &  R3 &  L3 &  R3 &  R4 &  L2 & ... &  R1 &  R2 &  R2 &  R2 &  L1 &  L1 &  L2 &  L5 &  L3 &  L1\\\\\n",
       "\\end{tabular}\n"
      ],
      "text/plain": [
       "  V1  V2  V3  V4  V5  V6  V7  V8  V9 V10 ... V140 V141 V142 V143 V144 V145 V146\n",
       "1 R5  L2  L1  R1  R3  R3  L3  R3  R4  L2 ...   R1   R2   R2   R2   L1   L1   L2\n",
       "  V147 V148 V149\n",
       "1   L5   L3   L1"
      ]
     },
     "metadata": {},
     "output_type": "display_data"
    }
   ],
   "source": [
    "data <- read.csv(\"data.csv\",header=F)\n",
    "data"
   ]
  },
  {
   "cell_type": "code",
   "execution_count": 3,
   "metadata": {
    "collapsed": true
   },
   "outputs": [],
   "source": [
    "# Small trim function because there is trailling and leading spaces in the data file\n",
    "trim <- function (x) gsub(\"^\\\\s+|\\\\s+$\", \"\", x)"
   ]
  },
  {
   "cell_type": "code",
   "execution_count": 37,
   "metadata": {
    "collapsed": false
   },
   "outputs": [],
   "source": [
    "curX <-0\n",
    "curY <-0\n",
    "face <-0\n",
    "locations <- matrix(c(0,0), ncol =2)\n",
    "\n",
    "a <- foreach(x=data) %do% {\n",
    "    face <- if((substr(trim(x),1,1) == \"R\")) face+1 else face-1;\n",
    "    lValue <- strtoi(substr(trim(x),2,nchar(trim(x))));\n",
    "    \n",
    "    #SubLoop to add all steps into the location matrix\n",
    "    b <- foreach(y=1:lValue) %do%{\n",
    "        switch(face%%4+1, {curX <- curX+1}, {curY <- curY+1}, {curX <- curX-1}, {curY <- curY-1});\n",
    "        locations <- rbind(locations, c(curX,curY))\n",
    "    } \n",
    "}\n",
    "\n",
    "HQ <- subset(locations,duplicated(locations))[1,] #Get the first "
   ]
  },
  {
   "cell_type": "code",
   "execution_count": 38,
   "metadata": {
    "collapsed": false
   },
   "outputs": [
    {
     "data": {
      "text/html": [
       "\"Q1 -- Shortest path to destination is 287 blocks away!\""
      ],
      "text/latex": [
       "\"Q1 -- Shortest path to destination is 287 blocks away!\""
      ],
      "text/markdown": [
       "\"Q1 -- Shortest path to destination is 287 blocks away!\""
      ],
      "text/plain": [
       "[1] \"Q1 -- Shortest path to destination is 287 blocks away!\""
      ]
     },
     "metadata": {},
     "output_type": "display_data"
    },
    {
     "data": {
      "text/html": [
       "\"Q2 -- Shortest path to HQ is 133 blocks away!\""
      ],
      "text/latex": [
       "\"Q2 -- Shortest path to HQ is 133 blocks away!\""
      ],
      "text/markdown": [
       "\"Q2 -- Shortest path to HQ is 133 blocks away!\""
      ],
      "text/plain": [
       "[1] \"Q2 -- Shortest path to HQ is 133 blocks away!\""
      ]
     },
     "metadata": {},
     "output_type": "display_data"
    }
   ],
   "source": [
    "paste(\"Q1 -- Shortest path to destination is\", (abs(curX) + abs(curY)),\"blocks away!\")\n",
    "paste(\"Q2 -- Shortest path to HQ is\", (abs(HQ[1]) + abs(HQ[2])),\"blocks away!\")"
   ]
  },
  {
   "cell_type": "code",
   "execution_count": 39,
   "metadata": {
    "collapsed": false
   },
   "outputs": [
    {
     "data": {
      "text/html": [
       "<ol class=list-inline>\n",
       "\t<li>-119</li>\n",
       "\t<li>-14</li>\n",
       "</ol>\n"
      ],
      "text/latex": [
       "\\begin{enumerate*}\n",
       "\\item -119\n",
       "\\item -14\n",
       "\\end{enumerate*}\n"
      ],
      "text/markdown": [
       "1. -119\n",
       "2. -14\n",
       "\n",
       "\n"
      ],
      "text/plain": [
       "[1] -119  -14"
      ]
     },
     "metadata": {},
     "output_type": "display_data"
    }
   ],
   "source": [
    "locations[duplicated(locations)][1,]"
   ]
  },
  {
   "cell_type": "code",
   "execution_count": null,
   "metadata": {
    "collapsed": true
   },
   "outputs": [],
   "source": []
  }
 ],
 "metadata": {
  "anaconda-cloud": {},
  "kernelspec": {
   "display_name": "R",
   "language": "R",
   "name": "ir"
  },
  "language_info": {
   "codemirror_mode": "r",
   "file_extension": ".r",
   "mimetype": "text/x-r-source",
   "name": "R",
   "pygments_lexer": "r",
   "version": "3.3.1"
  }
 },
 "nbformat": 4,
 "nbformat_minor": 1
}
