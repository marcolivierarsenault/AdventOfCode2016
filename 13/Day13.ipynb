{
 "cells": [
  {
   "cell_type": "markdown",
   "metadata": {},
   "source": [
    "# Advent of code Day 13\n",
    "\n",
    "Goal: recursive move in a 2D plan\n",
    "\n",
    "Ref: http://adventofcode.com/2016/day/13"
   ]
  },
  {
   "cell_type": "code",
   "execution_count": 1,
   "metadata": {
    "collapsed": true
   },
   "outputs": [],
   "source": [
    "input <- 1362"
   ]
  },
  {
   "cell_type": "code",
   "execution_count": 2,
   "metadata": {
    "collapsed": false
   },
   "outputs": [],
   "source": [
    "size <- 70\n",
    "floor <- matrix(lapply(c(1:size),function(xx){\n",
    "    lapply(c(1:size),function(yy){\n",
    "        y <- xx-1\n",
    "        x <- yy-1\n",
    "        #cat(\"#\",x,\"-----\",y,\"#\")\n",
    "        value <- (x*x + 3*x + 2*x*y + y + y*y+ input)\n",
    "        !sum(intToBits(value)==1)%%2\n",
    "    })\n",
    "}))"
   ]
  },
  {
   "cell_type": "code",
   "execution_count": 3,
   "metadata": {
    "collapsed": false
   },
   "outputs": [],
   "source": [
    "goDeep <- function(posi, past, dest, currentPath){\n",
    "    if(any(posi<1 | posi>size)){\n",
    "        #cat(\"-------------1-------------\")\n",
    "        return(bestPath+1)        \n",
    "    }\n",
    "    if(paste(posi,collapse=\";\") %in% past){\n",
    "        #cat(\"-------------3-------------\")\n",
    "        return(bestPath+1)        \n",
    "    }\n",
    "    past <- c(past,paste(posi,collapse=\";\"))\n",
    "    if(currentPath>=bestPath){\n",
    "        #cat(\"-------------2-------------\")\n",
    "        return(bestPath)        \n",
    "    }\n",
    "    #print(past)\n",
    "    #print(posi)\n",
    "    if(!floor[[posi[1]]][[posi[2]]]){\n",
    "        #cat(\"-------------4-------------\")\n",
    "        return(bestPath)        \n",
    "    }\n",
    "    #cat(\"-------------5-------------\")\n",
    "    if(all(posi==dest)){\n",
    "        bestPath <<- currentPath\n",
    "        return(currentPath)\n",
    "        \n",
    "    }\n",
    "    x <- posi[1]\n",
    "    y <- posi[2]\n",
    "    a <- goDeep(c(x+1,y),past,dest,currentPath+1)\n",
    "    c <- goDeep(c(x,y+1),past,dest,currentPath+1)\n",
    "    b <- goDeep(c(x-1,y),past,dest,currentPath+1)\n",
    "    d <- goDeep(c(x,y-1),past,dest,currentPath+1)\n",
    "    return(min(c(a,b,c,d)))\n",
    "    \n",
    "}"
   ]
  },
  {
   "cell_type": "code",
   "execution_count": 4,
   "metadata": {
    "collapsed": false
   },
   "outputs": [
    {
     "data": {
      "text/html": [
       "82"
      ],
      "text/latex": [
       "82"
      ],
      "text/markdown": [
       "82"
      ],
      "text/plain": [
       "[1] 82"
      ]
     },
     "metadata": {},
     "output_type": "display_data"
    }
   ],
   "source": [
    "bestPath <- 150\n",
    "myPast <- list()\n",
    "Q1 <- goDeep(c(2,2),myPast,c(40,32),0)\n",
    "Q1"
   ]
  },
  {
   "cell_type": "code",
   "execution_count": 5,
   "metadata": {
    "collapsed": false
   },
   "outputs": [],
   "source": [
    "goDeepCounting <- function(posi, currentPath, path){\n",
    "    if(any(posi<1 | posi>size)){\n",
    "        #cat(\"-------------1-------------\")\n",
    "        return(path)       \n",
    "    }\n",
    "    if(currentPath>max){\n",
    "        #cat(\"-------------2-------------\")\n",
    "        return(path)          \n",
    "    }\n",
    "    if(paste(posi,collapse=\";\") %in% path){\n",
    "        #cat(\"-------------3-------------\")\n",
    "        return(path)            \n",
    "    }\n",
    "    #print(posi)\n",
    "    if(!floor[[posi[1]]][[posi[2]]]){\n",
    "        #cat(\"-------------4-------------\")\n",
    "        return(path)       \n",
    "    }\n",
    "    path <- c(path,paste(posi,collapse=\";\"))\n",
    "    x <- posi[1]\n",
    "    y <- posi[2]\n",
    "    u <- goDeepCounting(c(x+1,y),currentPath+1, path)\n",
    "    l <- goDeepCounting(c(x,y+1),currentPath+1, path)\n",
    "    d <- goDeepCounting(c(x-1,y),currentPath+1, path)\n",
    "    r <- goDeepCounting(c(x,y-1),currentPath+1, path)   \n",
    "    return(unique(c(u,l,d,r)))\n",
    "}"
   ]
  },
  {
   "cell_type": "code",
   "execution_count": 6,
   "metadata": {
    "collapsed": false
   },
   "outputs": [
    {
     "data": {
      "text/html": [
       "138"
      ],
      "text/latex": [
       "138"
      ],
      "text/markdown": [
       "138"
      ],
      "text/plain": [
       "[1] 138"
      ]
     },
     "metadata": {},
     "output_type": "display_data"
    }
   ],
   "source": [
    "max <- 50\n",
    "pastQ2 <- goDeepCounting(c(2,2),0,list())\n",
    "length(pastQ2)"
   ]
  },
  {
   "cell_type": "code",
   "execution_count": 7,
   "metadata": {
    "collapsed": false
   },
   "outputs": [
    {
     "name": "stdout",
     "output_type": "stream",
     "text": [
      "Q1- Shortest path to 31,39 is :  82 \n",
      "Q2- Number of reachable place under 50 steps:  138 \n"
     ]
    }
   ],
   "source": [
    "cat(\"Q1- Shortest path to 31,39 is : \", Q1, '\\n')\n",
    "cat(\"Q2- Number of reachable place under 50 steps: \", length(pastQ2), '\\n')"
   ]
  }
 ],
 "metadata": {
  "anaconda-cloud": {},
  "kernelspec": {
   "display_name": "R",
   "language": "R",
   "name": "ir"
  },
  "language_info": {
   "codemirror_mode": "r",
   "file_extension": ".r",
   "mimetype": "text/x-r-source",
   "name": "R",
   "pygments_lexer": "r",
   "version": "3.3.1"
  }
 },
 "nbformat": 4,
 "nbformat_minor": 1
}
