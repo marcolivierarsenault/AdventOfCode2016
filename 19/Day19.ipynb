{
 "cells": [
  {
   "cell_type": "markdown",
   "metadata": {},
   "source": [
    "# Advent of code Day 19\n",
    "\n",
    "Goal: Nice Math Game - The Josephus Problem\n",
    "Source : https://www.youtube.com/watch?v=uCsD3ZGzMgE\n",
    "\n",
    "Ref: http://adventofcode.com/2016/day/19"
   ]
  },
  {
   "cell_type": "code",
   "execution_count": 1,
   "metadata": {
    "collapsed": true
   },
   "outputs": [],
   "source": [
    "elfs <- 3018458"
   ]
  },
  {
   "cell_type": "markdown",
   "metadata": {},
   "source": [
    "Used the algo given in the video"
   ]
  },
  {
   "cell_type": "code",
   "execution_count": 2,
   "metadata": {
    "collapsed": false
   },
   "outputs": [
    {
     "data": {
      "text/html": [
       "1842613"
      ],
      "text/latex": [
       "1842613"
      ],
      "text/markdown": [
       "1842613"
      ],
      "text/plain": [
       "[1] 1842613"
      ]
     },
     "metadata": {},
     "output_type": "display_data"
    }
   ],
   "source": [
    "Q1 <- (elfs-2^(floor(log(elfs, base = 2)))+1)*2-1\n",
    "Q1"
   ]
  },
  {
   "cell_type": "markdown",
   "metadata": {},
   "source": [
    "Used the logic to detect patern in the video to find the logic with this one"
   ]
  },
  {
   "cell_type": "code",
   "execution_count": 3,
   "metadata": {
    "collapsed": false
   },
   "outputs": [
    {
     "data": {
      "text/html": [
       "1424135"
      ],
      "text/latex": [
       "1424135"
      ],
      "text/markdown": [
       "1424135"
      ],
      "text/plain": [
       "[1] 1424135"
      ]
     },
     "metadata": {},
     "output_type": "display_data"
    }
   ],
   "source": [
    "maxNumber <- floor(log(elfs, base = 3))\n",
    "root <- 3^maxNumber\n",
    "rest <- elfs-root\n",
    "if(rest==0){\n",
    "  Q2 <- elfs\n",
    "} else {\n",
    "  Q2 <- min(root,rest)+max(0,rest-root)*2\n",
    "}\n",
    "Q2"
   ]
  },
  {
   "cell_type": "code",
   "execution_count": 4,
   "metadata": {
    "collapsed": false
   },
   "outputs": [
    {
     "name": "stdout",
     "output_type": "stream",
     "text": [
      "Q1- If you give take to the elf on your left, the remaining elf is :  1842613 \n",
      "Q2- If you give take to the elf facing you, the remaining elf is :  1424135 \n"
     ]
    }
   ],
   "source": [
    "cat(\"Q1- If you give take to the elf on your left, the remaining elf is : \", Q1, '\\n')\n",
    "cat(\"Q2- If you give take to the elf facing you, the remaining elf is : \", Q2, '\\n')"
   ]
  }
 ],
 "metadata": {
  "anaconda-cloud": {},
  "kernelspec": {
   "display_name": "R",
   "language": "R",
   "name": "ir"
  },
  "language_info": {
   "codemirror_mode": "r",
   "file_extension": ".r",
   "mimetype": "text/x-r-source",
   "name": "R",
   "pygments_lexer": "r",
   "version": "3.3.1"
  }
 },
 "nbformat": 4,
 "nbformat_minor": 1
}
