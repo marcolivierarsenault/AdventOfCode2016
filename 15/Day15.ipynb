{
 "cells": [
  {
   "cell_type": "markdown",
   "metadata": {},
   "source": [
    "# Advent of code Day 15\n",
    "\n",
    "Goal: Finding PPCM\n",
    "\n",
    "\n",
    "Ref: http://adventofcode.com/2016/day/15"
   ]
  },
  {
   "cell_type": "code",
   "execution_count": 1,
   "metadata": {
    "collapsed": true
   },
   "outputs": [],
   "source": [
    "disc1 = seq(((7-0)-1), 5000000, by = 7)\n",
    "disc2 = seq(((13-0)-2), 5000000, by = 13)\n",
    "disc3 = seq(((3-2)-3), 5000000, by = 3)\n",
    "disc4 = seq(((5-2)-4), 5000000, by = 5)\n",
    "disc5 = seq(((17-0)-5), 5000000, by = 17)\n",
    "disc6 = seq(((19-7)-6), 5000000, by = 19)\n",
    "disc7 = seq(((11-0)-7), 5000000, by = 11)"
   ]
  },
  {
   "cell_type": "code",
   "execution_count": 2,
   "metadata": {
    "collapsed": false
   },
   "outputs": [
    {
     "data": {
      "text/html": [
       "121834"
      ],
      "text/latex": [
       "121834"
      ],
      "text/markdown": [
       "121834"
      ],
      "text/plain": [
       "[1] 121834"
      ]
     },
     "metadata": {},
     "output_type": "display_data"
    }
   ],
   "source": [
    "Q1 <- min(Reduce(intersect, list(disc1,disc2,disc3,disc4,disc5,disc6)))\n",
    "Q1"
   ]
  },
  {
   "cell_type": "code",
   "execution_count": 3,
   "metadata": {
    "collapsed": false
   },
   "outputs": [
    {
     "data": {
      "text/html": [
       "3208099"
      ],
      "text/latex": [
       "3208099"
      ],
      "text/markdown": [
       "3208099"
      ],
      "text/plain": [
       "[1] 3208099"
      ]
     },
     "metadata": {},
     "output_type": "display_data"
    }
   ],
   "source": [
    "Q2 <- Reduce(intersect, list(disc1,disc2,disc3,disc4,disc5,disc6,disc7))\n",
    "Q2"
   ]
  },
  {
   "cell_type": "code",
   "execution_count": 4,
   "metadata": {
    "collapsed": false
   },
   "outputs": [
    {
     "name": "stdout",
     "output_type": "stream",
     "text": [
      "Q1 - To get the first capsule press a Time =  121834 \n",
      "Q2 - To get the sencond capsule press a Time =  3208099 \n"
     ]
    }
   ],
   "source": [
    "cat(\"Q1 - To get the first capsule press a Time = \", Q1, '\\n')\n",
    "cat(\"Q2 - To get the sencond capsule press a Time = \", Q2, '\\n')"
   ]
  }
 ],
 "metadata": {
  "anaconda-cloud": {},
  "kernelspec": {
   "display_name": "R",
   "language": "R",
   "name": "ir"
  },
  "language_info": {
   "codemirror_mode": "r",
   "file_extension": ".r",
   "mimetype": "text/x-r-source",
   "name": "R",
   "pygments_lexer": "r",
   "version": "3.3.1"
  }
 },
 "nbformat": 4,
 "nbformat_minor": 1
}
