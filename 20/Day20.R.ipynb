{
 "cells": [
  {
   "cell_type": "markdown",
   "metadata": {},
   "source": [
    "# Advent of code Day 20\n",
    "\n",
    "Goal: Filter IP Address ban list\n",
    "\n",
    "Ref: http://adventofcode.com/2016/day/20"
   ]
  },
  {
   "cell_type": "code",
   "execution_count": 1,
   "metadata": {
    "collapsed": true
   },
   "outputs": [],
   "source": [
    "library(foreach)"
   ]
  },
  {
   "cell_type": "code",
   "execution_count": 2,
   "metadata": {
    "collapsed": false
   },
   "outputs": [],
   "source": [
    "input <- read.table(\"Data.txt\", header = FALSE, sep = \"-\")\n",
    "BlockRange <- list()\n",
    "current <- 0"
   ]
  },
  {
   "cell_type": "code",
   "execution_count": 3,
   "metadata": {
    "collapsed": false
   },
   "outputs": [
    {
     "name": "stderr",
     "output_type": "stream",
     "text": [
      "Warning message in min(original$V1):\n",
      "\"no non-missing arguments to min; returning Inf\"Warning message in min(original$V1):\n",
      "\"no non-missing arguments to min; returning Inf\"Warning message in min(original$V1):\n",
      "\"no non-missing arguments to min; returning Inf\"Warning message in min(original$V1):\n",
      "\"no non-missing arguments to min; returning Inf\"Warning message in min(original$V1):\n",
      "\"no non-missing arguments to min; returning Inf\""
     ]
    },
    {
     "ename": "ERROR",
     "evalue": "Error in if (currentMax < tt) {: argument is of length zero\n",
     "output_type": "error",
     "traceback": [
      "Error in if (currentMax < tt) {: argument is of length zero\nTraceback:\n"
     ]
    }
   ],
   "source": [
    "BlockRange <- list()\n",
    "original <- input\n",
    "currentMin <- 0\n",
    "currentMax <- 0\n",
    "pMax <- 0\n",
    "while(length(original)>0){\n",
    "  notFound = TRUE\n",
    "  currentMin <- min(original$V1)\n",
    "  while(notFound){\n",
    "    tt <- min(original$V1)\n",
    "    if(currentMax<tt){\n",
    "      notFound = FALSE\n",
    "    } else{\n",
    "      idx <- which(original$V1==tt)\n",
    "      pMax <- max(original$V2[idx],pMax)\n",
    "      currentMax <- original$V2[idx]+1\n",
    "      original <<- original[-idx,]\n",
    "    }\n",
    "    \n",
    "    \n",
    "  }\n",
    "  BlockRange[[length(BlockRange)+1]] <- list(currentMin,pMax)\n",
    "  currentMax  <- min(original$V1)\n",
    "}"
   ]
  },
  {
   "cell_type": "code",
   "execution_count": 4,
   "metadata": {
    "collapsed": false
   },
   "outputs": [
    {
     "name": "stdout",
     "output_type": "stream",
     "text": [
      "31053880"
     ]
    }
   ],
   "source": [
    "first <- 0\n",
    "firstFound <- FALSE\n",
    "x <- 1\n",
    "while(!firstFound){\n",
    "   if(BlockRange[[x+1]][[1]]>BlockRange[[x]][[2]]){\n",
    "     first <- BlockRange[[x]][[2]]+1\n",
    "     firstFound <- TRUE\n",
    "   }\n",
    "  x <- x+1\n",
    "}\n",
    "cat(first)"
   ]
  },
  {
   "cell_type": "code",
   "execution_count": 5,
   "metadata": {
    "collapsed": false
   },
   "outputs": [
    {
     "name": "stdout",
     "output_type": "stream",
     "text": [
      "117"
     ]
    }
   ],
   "source": [
    "sum <- 0\n",
    "aa <- foreach(x = 1:(length(BlockRange)-1)) %do% {\n",
    "  sum <- sum + max(0,(BlockRange[[x+1]][[1]]-BlockRange[[x]][[2]])-1)\n",
    "}\n",
    "cat(sum)"
   ]
  },
  {
   "cell_type": "code",
   "execution_count": 6,
   "metadata": {
    "collapsed": false
   },
   "outputs": [
    {
     "name": "stdout",
     "output_type": "stream",
     "text": [
      "Q1- The First accepted IP address is :  31053880 \n",
      "Q2- The total amount of IP address is :  117 \n"
     ]
    }
   ],
   "source": [
    "cat(\"Q1- The First accepted IP address is : \", first, '\\n')\n",
    "cat(\"Q2- The total amount of IP address is : \", sum, '\\n')"
   ]
  }
 ],
 "metadata": {
  "anaconda-cloud": {},
  "kernelspec": {
   "display_name": "R",
   "language": "R",
   "name": "ir"
  },
  "language_info": {
   "codemirror_mode": "r",
   "file_extension": ".r",
   "mimetype": "text/x-r-source",
   "name": "R",
   "pygments_lexer": "r",
   "version": "3.3.1"
  }
 },
 "nbformat": 4,
 "nbformat_minor": 1
}
