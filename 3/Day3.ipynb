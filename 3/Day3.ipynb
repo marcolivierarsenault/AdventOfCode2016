{
 "cells": [
  {
   "cell_type": "markdown",
   "metadata": {},
   "source": [
    "# Advent of code Day 3\n",
    "\n",
    "Goal: List possible triangles in an array of numbers\n",
    "\n",
    "Ref: http://adventofcode.com/2016/day/3"
   ]
  },
  {
   "cell_type": "code",
   "execution_count": 30,
   "metadata": {
    "collapsed": false
   },
   "outputs": [
    {
     "name": "stdout",
     "output_type": "stream",
     "text": [
      "'data.frame':\t1911 obs. of  3 variables:\n",
      " $ V1: int  541 827 660 39 229 237 898 101 813 603 ...\n",
      " $ V2: int  588 272 514 703 871 956 566 79 541 135 ...\n",
      " $ V3: int  421 126 367 839 3 841 112 112 146 565 ...\n"
     ]
    }
   ],
   "source": [
    "data <- read.table(\"data.txt\") #Using dataframe to align data\n",
    "str(data)"
   ]
  },
  {
   "cell_type": "code",
   "execution_count": 31,
   "metadata": {
    "collapsed": false
   },
   "outputs": [],
   "source": [
    "data$possible <- apply(data, 1, function(x) {t <- sort(x); (t[1]+t[2]) > t[3]}) #Creating new column with the possible value"
   ]
  },
  {
   "cell_type": "code",
   "execution_count": null,
   "metadata": {
    "collapsed": true
   },
   "outputs": [],
   "source": [
    "For Q2 we recreate a new dataframe to work with row "
   ]
  },
  {
   "cell_type": "code",
   "execution_count": 56,
   "metadata": {
    "collapsed": true
   },
   "outputs": [],
   "source": [
    "data2 <- matrix(data[[1]],ncol = 3, byrow=T)\n",
    "data2 <- rbind(data2,matrix(data[[2]],ncol = 3, byrow=T))\n",
    "data2 <- rbind(data2,matrix(data[[3]],ncol = 3, byrow=T))\n",
    "data2 <- data.frame(data2)\n",
    "str(data2)"
   ]
  },
  {
   "cell_type": "code",
   "execution_count": 58,
   "metadata": {
    "collapsed": false
   },
   "outputs": [],
   "source": [
    "data2$possible <- apply(data2, 1, function(x) {t <- sort(x); (t[1]+t[2]) > t[3]})"
   ]
  },
  {
   "cell_type": "code",
   "execution_count": 64,
   "metadata": {
    "collapsed": false
   },
   "outputs": [
    {
     "name": "stdout",
     "output_type": "stream",
     "text": [
      "Q1 - The number of possible triangles by row is:  993 \n",
      "Q2 - The number of possible triangles by column is:  1849 \n"
     ]
    }
   ],
   "source": [
    "cat(\"Q1 - The number of possible triangles by row is: \", sum(data$possible), '\\n')\n",
    "cat(\"Q2 - The number of possible triangles by column is: \", sum(data2$possible), '\\n')"
   ]
  }
 ],
 "metadata": {
  "anaconda-cloud": {},
  "kernelspec": {
   "display_name": "R",
   "language": "R",
   "name": "ir"
  },
  "language_info": {
   "codemirror_mode": "r",
   "file_extension": ".r",
   "mimetype": "text/x-r-source",
   "name": "R",
   "pygments_lexer": "r",
   "version": "3.3.1"
  }
 },
 "nbformat": 4,
 "nbformat_minor": 1
}
