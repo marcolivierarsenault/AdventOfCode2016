{
 "cells": [
  {
   "cell_type": "markdown",
   "metadata": {},
   "source": [
    "# Advent of code Day 24\n",
    "\n",
    "Goal: Another damned maze\n",
    "Hint: decided to solve it with a Graph\n",
    "Used the igraph lib. \n",
    "\n",
    "Ref: http://adventofcode.com/2016/day/24"
   ]
  },
  {
   "cell_type": "code",
   "execution_count": 1,
   "metadata": {
    "collapsed": true
   },
   "outputs": [],
   "source": [
    "options(warn=-1)"
   ]
  },
  {
   "cell_type": "code",
   "execution_count": 3,
   "metadata": {
    "collapsed": false
   },
   "outputs": [],
   "source": [
    "library(igraph)\n",
    "library(stringr)\n",
    "library(combinat)"
   ]
  },
  {
   "cell_type": "code",
   "execution_count": 4,
   "metadata": {
    "collapsed": true
   },
   "outputs": [],
   "source": [
    "input <- readLines(\"data.txt\")\n",
    "nbOfKey <- 8"
   ]
  },
  {
   "cell_type": "markdown",
   "metadata": {},
   "source": [
    "### Create the Graph\n",
    "\n",
    "This part create a full graph of 4 neighbors and find the markers"
   ]
  },
  {
   "cell_type": "code",
   "execution_count": 5,
   "metadata": {
    "collapsed": false
   },
   "outputs": [],
   "source": [
    "createsquare4NeigboursList <- function(n, m){ ##Create the list of neighbors\n",
    "    return <- numeric()\n",
    "    for(i in 1:(n)){\n",
    "        for(j in 1:(m)){\n",
    "            current <- ((i-1)*m)+j\n",
    "            if(j<(m))\n",
    "                return <- c(return,current,(current+1))\n",
    "            if(i<(n))\n",
    "                return <- c(return,current,(current+m))\n",
    "        } \n",
    "    }\n",
    "    return\n",
    "}"
   ]
  },
  {
   "cell_type": "code",
   "execution_count": 6,
   "metadata": {
    "collapsed": false
   },
   "outputs": [],
   "source": [
    "row <- length(input)\n",
    "col <- nchar(input[[1]])\n",
    "edges <- createsquare4NeigboursList(row, col)\n",
    "gr <- graph(edges, directed=FALSE) %>% set_vertex_attr(\"name\", value = 1:(row*col)) #Graph is created\n",
    "keys <- rep(0,nbOfKey)\n",
    "devNull <- lapply(input, function(x) { #Remove walls and identify markers\n",
    "    currentRow <- parent.frame()$i[]-1\n",
    "    theRow <- str_split(x,\"\")[[1]]\n",
    "    for (currentCol in 1:length(theRow)){\n",
    "        vertex <- currentRow*col + currentCol\n",
    "        if(theRow[currentCol]==\"#\"){\n",
    "            gr <<- delete_vertices(gr, toString(vertex))\n",
    "        } else if(!is.na(as.numeric(theRow[currentCol]))){\n",
    "            key <- as.numeric(theRow[currentCol])\n",
    "            keys[key+1] <<- vertex\n",
    "        }\n",
    "        \n",
    "\n",
    "    }\n",
    "})"
   ]
  },
  {
   "cell_type": "markdown",
   "metadata": {},
   "source": [
    "### Calculate the matrix of distances"
   ]
  },
  {
   "cell_type": "code",
   "execution_count": 7,
   "metadata": {
    "collapsed": false
   },
   "outputs": [
    {
     "data": {
      "text/html": [
       "<table>\n",
       "<tbody>\n",
       "\t<tr><td>0  </td><td>30 </td><td>76 </td><td>40 </td><td>242</td><td>252</td><td>260</td><td>214</td></tr>\n",
       "\t<tr><td>0  </td><td> 0 </td><td>58 </td><td>30 </td><td>224</td><td>234</td><td>242</td><td>196</td></tr>\n",
       "\t<tr><td>0  </td><td> 0 </td><td> 0 </td><td>72 </td><td>178</td><td>188</td><td>192</td><td>150</td></tr>\n",
       "\t<tr><td>0  </td><td> 0 </td><td> 0 </td><td> 0 </td><td>238</td><td>248</td><td>256</td><td>210</td></tr>\n",
       "\t<tr><td>0  </td><td> 0 </td><td> 0 </td><td> 0 </td><td>  0</td><td> 26</td><td> 66</td><td> 48</td></tr>\n",
       "\t<tr><td>0  </td><td> 0 </td><td> 0 </td><td> 0 </td><td>  0</td><td>  0</td><td> 76</td><td> 62</td></tr>\n",
       "\t<tr><td>0  </td><td> 0 </td><td> 0 </td><td> 0 </td><td>  0</td><td>  0</td><td>  0</td><td> 82</td></tr>\n",
       "\t<tr><td>0  </td><td> 0 </td><td> 0 </td><td> 0 </td><td>  0</td><td>  0</td><td>  0</td><td>  0</td></tr>\n",
       "</tbody>\n",
       "</table>\n"
      ],
      "text/latex": [
       "\\begin{tabular}{llllllll}\n",
       "\t 0   & 30  & 76  & 40  & 242 & 252 & 260 & 214\\\\\n",
       "\t 0   &  0  & 58  & 30  & 224 & 234 & 242 & 196\\\\\n",
       "\t 0   &  0  &  0  & 72  & 178 & 188 & 192 & 150\\\\\n",
       "\t 0   &  0  &  0  &  0  & 238 & 248 & 256 & 210\\\\\n",
       "\t 0   &  0  &  0  &  0  &   0 &  26 &  66 &  48\\\\\n",
       "\t 0   &  0  &  0  &  0  &   0 &   0 &  76 &  62\\\\\n",
       "\t 0   &  0  &  0  &  0  &   0 &   0 &   0 &  82\\\\\n",
       "\t 0   &  0  &  0  &  0  &   0 &   0 &   0 &   0\\\\\n",
       "\\end{tabular}\n"
      ],
      "text/markdown": [
       "\n",
       "| 0   | 30  | 76  | 40  | 242 | 252 | 260 | 214 | \n",
       "| 0   |  0  | 58  | 30  | 224 | 234 | 242 | 196 | \n",
       "| 0   |  0  |  0  | 72  | 178 | 188 | 192 | 150 | \n",
       "| 0   |  0  |  0  |  0  | 238 | 248 | 256 | 210 | \n",
       "| 0   |  0  |  0  |  0  |   0 |  26 |  66 |  48 | \n",
       "| 0   |  0  |  0  |  0  |   0 |   0 |  76 |  62 | \n",
       "| 0   |  0  |  0  |  0  |   0 |   0 |   0 |  82 | \n",
       "| 0   |  0  |  0  |  0  |   0 |   0 |   0 |   0 | \n",
       "\n",
       "\n"
      ],
      "text/plain": [
       "     [,1] [,2] [,3] [,4] [,5] [,6] [,7] [,8]\n",
       "[1,] 0    30   76   40   242  252  260  214 \n",
       "[2,] 0     0   58   30   224  234  242  196 \n",
       "[3,] 0     0    0   72   178  188  192  150 \n",
       "[4,] 0     0    0    0   238  248  256  210 \n",
       "[5,] 0     0    0    0     0   26   66   48 \n",
       "[6,] 0     0    0    0     0    0   76   62 \n",
       "[7,] 0     0    0    0     0    0    0   82 \n",
       "[8,] 0     0    0    0     0    0    0    0 "
      ]
     },
     "metadata": {},
     "output_type": "display_data"
    }
   ],
   "source": [
    "distances <- matrix(0, nrow=nbOfKey, ncol=nbOfKey)\n",
    "distances <- apply(distances, 1, function(x) {\n",
    "    currentFrom <- parent.frame()$i[]\n",
    "    sapply(x, function(y) {\n",
    "        currentTo <- parent.frame()$i[]\n",
    "        if(currentFrom>currentTo)\n",
    "            distances(gr,toString(keys[currentFrom]),toString(keys[currentTo]))[[1]]\n",
    "        else\n",
    "            0\n",
    "    })\n",
    "})\n",
    "distances"
   ]
  },
  {
   "cell_type": "markdown",
   "metadata": {},
   "source": [
    "### Caluclate optimal path\n"
   ]
  },
  {
   "cell_type": "code",
   "execution_count": 8,
   "metadata": {
    "collapsed": false
   },
   "outputs": [
    {
     "data": {
      "text/html": [
       "428"
      ],
      "text/latex": [
       "428"
      ],
      "text/markdown": [
       "428"
      ],
      "text/plain": [
       "[1] 428"
      ]
     },
     "metadata": {},
     "output_type": "display_data"
    }
   ],
   "source": [
    "allOptions <- sapply(permn(2:nbOfKey), function(x) {\n",
    "    fullPath <- c(1,x)\n",
    "    currentTotal <- 0\n",
    "    for (currentIndex in 2:length(fullPath)){\n",
    "      currentTotal <- currentTotal + distances[fullPath[currentIndex-1],fullPath[currentIndex]]\n",
    "      currentTotal <- currentTotal + distances[fullPath[currentIndex],fullPath[currentIndex-1]] \n",
    "    }\n",
    "    currentTotal\n",
    "})\n",
    "Q1 <- min(allOptions)\n",
    "Q1"
   ]
  },
  {
   "cell_type": "code",
   "execution_count": 9,
   "metadata": {
    "collapsed": false
   },
   "outputs": [
    {
     "data": {
      "text/html": [
       "680"
      ],
      "text/latex": [
       "680"
      ],
      "text/markdown": [
       "680"
      ],
      "text/plain": [
       "[1] 680"
      ]
     },
     "metadata": {},
     "output_type": "display_data"
    }
   ],
   "source": [
    "allOptions <- sapply(permn(2:nbOfKey), function(x) {\n",
    "    fullPath <- c(1,x,1)\n",
    "    currentTotal <- 0\n",
    "    for (currentIndex in 2:length(fullPath)){\n",
    "      currentTotal <- currentTotal + distances[fullPath[currentIndex-1],fullPath[currentIndex]]\n",
    "      currentTotal <- currentTotal + distances[fullPath[currentIndex],fullPath[currentIndex-1]] \n",
    "    }\n",
    "    currentTotal\n",
    "})\n",
    "Q2 <- min(allOptions)\n",
    "Q2"
   ]
  },
  {
   "cell_type": "code",
   "execution_count": 10,
   "metadata": {
    "collapsed": false
   },
   "outputs": [
    {
     "name": "stdout",
     "output_type": "stream",
     "text": [
      "Q1- Optimal Path in the maze:  428 \n",
      "Q2- Optimal Path in the maze when returning to position 0:  680 \n"
     ]
    }
   ],
   "source": [
    "cat(\"Q1- Optimal Path in the maze: \", Q1, '\\n')\n",
    "cat(\"Q2- Optimal Path in the maze when returning to position 0: \", Q2, '\\n')"
   ]
  }
 ],
 "metadata": {
  "kernelspec": {
   "display_name": "R",
   "language": "R",
   "name": "ir"
  },
  "language_info": {
   "codemirror_mode": "r",
   "file_extension": ".r",
   "mimetype": "text/x-r-source",
   "name": "R",
   "pygments_lexer": "r",
   "version": "3.3.2"
  }
 },
 "nbformat": 4,
 "nbformat_minor": 2
}
