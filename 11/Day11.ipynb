{
 "cells": [
  {
   "cell_type": "markdown",
   "metadata": {},
   "source": [
    "# Advent of code Day 11\n",
    "\n",
    "Goal: Evaluate the optimal path to move object on a map with constraint\n",
    "\n",
    "Hack: There is an easy way to calculate the optimal path without the need to do it.\n",
    "Based on the fact that you need at least to move up 2 object and then down 1 (exept the first object)\n",
    "\n",
    "Ref: http://adventofcode.com/2016/day/11"
   ]
  },
  {
   "cell_type": "code",
   "execution_count": 1,
   "metadata": {
    "collapsed": true
   },
   "outputs": [],
   "source": [
    "totalObject <- 10\n",
    "ObjectFloor2 <- 4\n",
    "ObjectFloor3 <- 4\n",
    "totalObjectQ2 <- 14"
   ]
  },
  {
   "cell_type": "code",
   "execution_count": 2,
   "metadata": {
    "collapsed": false
   },
   "outputs": [],
   "source": [
    "Total <-       (2*(totalObject - 1) -1 )* 3\n",
    "TotalFloor2 <- (2*(ObjectFloor2-1) -1) * 1 + 1\n",
    "TotalFloor3 <- (2*(ObjectFloor3-1) -1) * 2 + 2\n",
    "TotalQ2 <-     (2*(totalObjectQ2 - 1) -1 )* 3"
   ]
  },
  {
   "cell_type": "code",
   "execution_count": 3,
   "metadata": {
    "collapsed": false
   },
   "outputs": [
    {
     "name": "stdout",
     "output_type": "stream",
     "text": [
      "Q1- The mimimum amount of step is:  33 \n",
      "Q2- The mimimum amount of step is:  57 \n"
     ]
    }
   ],
   "source": [
    "cat(\"Q1- The mimimum amount of step is: \", Total - TotalFloor2 - TotalFloor3, '\\n')\n",
    "cat(\"Q2- The mimimum amount of step is: \", TotalQ2 - TotalFloor2 - TotalFloor3, '\\n')"
   ]
  }
 ],
 "metadata": {
  "anaconda-cloud": {},
  "kernelspec": {
   "display_name": "R",
   "language": "R",
   "name": "ir"
  },
  "language_info": {
   "codemirror_mode": "r",
   "file_extension": ".r",
   "mimetype": "text/x-r-source",
   "name": "R",
   "pygments_lexer": "r",
   "version": "3.3.1"
  }
 },
 "nbformat": 4,
 "nbformat_minor": 1
}
