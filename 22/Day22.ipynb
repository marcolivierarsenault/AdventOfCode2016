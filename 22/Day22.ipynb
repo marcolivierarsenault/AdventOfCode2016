{
 "cells": [
  {
   "cell_type": "markdown",
   "metadata": {},
   "source": [
    "# Advent of code Day 22\n",
    "\n",
    "Goal: Draw another map and find the closest path\n",
    "\n",
    "Ref: http://adventofcode.com/2016/day/22"
   ]
  },
  {
   "cell_type": "code",
   "execution_count": 1,
   "metadata": {
    "collapsed": true
   },
   "outputs": [],
   "source": [
    "library(stringr)"
   ]
  },
  {
   "cell_type": "code",
   "execution_count": 2,
   "metadata": {
    "collapsed": true
   },
   "outputs": [],
   "source": [
    "input <- read.table(\"data.txt\",header=TRUE)"
   ]
  },
  {
   "cell_type": "code",
   "execution_count": 3,
   "metadata": {
    "collapsed": false
   },
   "outputs": [],
   "source": [
    "input$Used <- as.integer(gsub('.{1}$', '',input$Used ))\n",
    "input$Avail <- as.integer(gsub('.{1}$', '',input$Avail))\n",
    "input$Size <- as.integer(gsub('.{1}$', '',input$Size))\n",
    "input$X <- as.integer(sapply(sapply(str_split(input$Filesystem, '-'), \"[[\", 2), str_sub, start=2))\n",
    "input$Y <- as.integer(sapply(sapply(str_split(input$Filesystem, '-'), \"[[\", 3), str_sub, start=2))"
   ]
  },
  {
   "cell_type": "code",
   "execution_count": 4,
   "metadata": {
    "collapsed": false
   },
   "outputs": [
    {
     "data": {
      "text/html": [
       "1045"
      ],
      "text/latex": [
       "1045"
      ],
      "text/markdown": [
       "1045"
      ],
      "text/plain": [
       "[1] 1045"
      ]
     },
     "metadata": {},
     "output_type": "display_data"
    }
   ],
   "source": [
    "Q1 <- sum(sapply(input$Used,function(x) {if(x!=0) sum(input$Avail>=x) else 0}))\n",
    "Q1"
   ]
  },
  {
   "cell_type": "code",
   "execution_count": 5,
   "metadata": {
    "collapsed": false
   },
   "outputs": [],
   "source": [
    "input$sign <- apply(input, 1, function(x) {if(as.integer(x[6])==0 & as.integer(x[7])==0) \"V\" else if(as.integer(x[7])==0 & as.integer(x[6])==max(input$X)) \"G\" else if( as.integer(x[3])==0) \"_\" else if (sum(input$Avail>=as.integer(x[3])) > 0) \".\" else \"#\"  })"
   ]
  },
  {
   "cell_type": "markdown",
   "metadata": {},
   "source": [
    "### Part 2\n",
    "Easyest way is to manually count, sorry about that"
   ]
  },
  {
   "cell_type": "code",
   "execution_count": 6,
   "metadata": {
    "collapsed": false
   },
   "outputs": [
    {
     "name": "stdout",
     "output_type": "stream",
     "text": [
      "[1] \"V . . . . . . . . . . . . . . . . . . . . . . . . . . . . . . . . . . G\"\n",
      "[1] \". . . . . . . . . . . . . . . . . . . . . . . . . . . . . . . . . . . .\"\n",
      "[1] \". . . . . . . . . . . . . . . . . . . . . . . . . . . . . . . . . . . .\"\n",
      "[1] \". . . . . . . . . . . . . . . . . . . . . . . . . . . . . . . . . . . .\"\n",
      "[1] \". . . . . . . . . . . . . . . . . . . . . . . . . . . . . . . . . . . .\"\n",
      "[1] \". . . . . . . . . . . . . . . . . . . . . . . . . . . . . . . . . . . .\"\n",
      "[1] \". . . . . . . . . . . . . . . . . . . . . . . . . . . . . . . . . . . .\"\n",
      "[1] \". . . . . . . . . . . . . . . . . . . . . . . . . . . . . . . . . . . .\"\n",
      "[1] \". . . . . . . . . . . . . . . . . . . . . . . . . . . . . . . . . . . .\"\n",
      "[1] \". . . . . . . . . . . . . . . . . . . . . . . . . . . . . . . . . . . .\"\n",
      "[1] \". . . . . . . . . . . . . . . . . . . . . . . . . . . . . . . . . . . .\"\n",
      "[1] \". . . . . . . . . . . . . . . . . . . . . . . . . . . . . . . . . . . .\"\n",
      "[1] \". . . . . . . . . . . . . . . . . . . . . . . . . . . . . . . . . . . .\"\n",
      "[1] \". . . . . . . . . . . . . . . . . . . . . . . . . . . . . . . . . . . .\"\n",
      "[1] \". . . . . . . . . . . . . . . . . . . . . . . . . . . . . . . . . . . .\"\n",
      "[1] \". . . . . . . . . . . . . . . . . . . . . . . . . . . . . . . . . . . .\"\n",
      "[1] \". . . . . . . . . . . . . . . . . . . . . . . . . . . . . . . . . . . .\"\n",
      "[1] \". . # # # # # # # # # # # # # # # # # # # # # # # # # # # # # # # # # #\"\n",
      "[1] \". . . . . . . . . . . . . . . . . . . . . . . . . . . . . . . . . . . .\"\n",
      "[1] \". . . . . . . . . . . . . . . . . . . . . . . . . . . . . . . . . . . .\"\n",
      "[1] \". . . . . . . . . . . . . . . . . . . . . . . . . . . . . . . . . . . .\"\n",
      "[1] \". . . . . . . . . . . . . . . . . . . . . . . . . . . . . . . . . . . .\"\n",
      "[1] \". . . . . . . . . . . . . . . . . . . . . . . . . . . . . . . . . . . .\"\n",
      "[1] \". . . . . . . . . . . . . . . . . . . . . . . . . . . . . . . . . . . .\"\n",
      "[1] \". . . . . . . . . . . . . . . . . . . . . . . . . . . . . . . . . . . .\"\n",
      "[1] \". . . . . . . . . . . . . . . . . . . . . . . . . . . . . . . . . . . .\"\n",
      "[1] \". . . . . . . . . . . . . . . . . . . . . . . . . . . . . . . . . . . .\"\n",
      "[1] \". . . . . . . . . . . . . . . . . . . . . . . . . . . . . . . . . . . _\"\n",
      "[1] \". . . . . . . . . . . . . . . . . . . . . . . . . . . . . . . . . . . .\"\n",
      "[1] \". . . . . . . . . . . . . . . . . . . . . . . . . . . . . . . . . . . .\"\n"
     ]
    }
   ],
   "source": [
    "a <- lapply(lapply(split(input,input$Y),function(x) {as.character(paste(x[,8],collapse=\" \"))}),print)"
   ]
  },
  {
   "cell_type": "code",
   "execution_count": 7,
   "metadata": {
    "collapsed": false
   },
   "outputs": [
    {
     "data": {
      "text/html": [
       "265"
      ],
      "text/latex": [
       "265"
      ],
      "text/markdown": [
       "265"
      ],
      "text/plain": [
       "[1] 265"
      ]
     },
     "metadata": {},
     "output_type": "display_data"
    }
   ],
   "source": [
    "#Based on the Counting\n",
    "Q2 <- 9 + 34 + 2 + 33 + 16 + (34*5) +1\n",
    "Q2"
   ]
  },
  {
   "cell_type": "code",
   "execution_count": 8,
   "metadata": {
    "collapsed": false
   },
   "outputs": [
    {
     "name": "stdout",
     "output_type": "stream",
     "text": [
      "Q1- The number of viable pairs is :  1045 \n",
      "Q2- The smallest amount of mv is :  265 \n"
     ]
    }
   ],
   "source": [
    "cat(\"Q1- The number of viable pairs is : \", Q1, '\\n')\n",
    "cat(\"Q2- The smallest amount of mv is : \", Q2, '\\n')"
   ]
  }
 ],
 "metadata": {
  "anaconda-cloud": {},
  "kernelspec": {
   "display_name": "R",
   "language": "R",
   "name": "ir"
  },
  "language_info": {
   "codemirror_mode": "r",
   "file_extension": ".r",
   "mimetype": "text/x-r-source",
   "name": "R",
   "pygments_lexer": "r",
   "version": "3.3.1"
  }
 },
 "nbformat": 4,
 "nbformat_minor": 1
}
