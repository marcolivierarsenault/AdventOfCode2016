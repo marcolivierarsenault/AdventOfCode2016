{
 "cells": [
  {
   "cell_type": "markdown",
   "metadata": {},
   "source": [
    "# Advent of code Day 5\n",
    "\n",
    "Goal: MD5 playing\n",
    "\n",
    "Learning: R is really not the best for loop of MD5, it is really slow.\n",
    "\n",
    "Ref: http://adventofcode.com/2016/day/5"
   ]
  },
  {
   "cell_type": "code",
   "execution_count": 1,
   "metadata": {
    "collapsed": true
   },
   "outputs": [],
   "source": [
    "library(digest)"
   ]
  },
  {
   "cell_type": "code",
   "execution_count": 2,
   "metadata": {
    "collapsed": false
   },
   "outputs": [],
   "source": [
    "input <- \"wtnhxymk\""
   ]
  },
  {
   "cell_type": "code",
   "execution_count": 3,
   "metadata": {
    "collapsed": false
   },
   "outputs": [],
   "source": [
    "tmp <- 0\n",
    "hashes <- integer()\n",
    "password <- integer()\n",
    "advancedCode <- c(rep(NA, 8))\n",
    "while(anyNA(advancedCode)) { #Pas le best skill de R de faire des loop de MD5...\n",
    "    x <- digest(paste(input,tmp,sep=\"\"),\"md5\", serialize = FALSE)\n",
    "    if (startsWith(x,\"00000\")){\n",
    "        hashes <- c(hashes,tmp)# Keep list of working number to add to the password\n",
    "        password <- c(password,substr(x,6,6))\n",
    "        posi <- strtoi(substr(x,6,6), base = 16L)\n",
    "        if(posi < 8 & is.na(advancedCode[posi+1])){\n",
    "            advancedCode[posi+1] <- substr(x,7,7)\n",
    "        }\n",
    "    }\n",
    "    tmp <- tmp +1\n",
    "        \n",
    "}"
   ]
  },
  {
   "cell_type": "code",
   "execution_count": 4,
   "metadata": {
    "collapsed": false
   },
   "outputs": [
    {
     "name": "stdout",
     "output_type": "stream",
     "text": [
      "Q1 - Password for the door is:  2414bc77 \n",
      "Q2 - Password for the second door is:  437e60fc \n"
     ]
    }
   ],
   "source": [
    "cat(\"Q1 - Password for the door is: \", paste(password[1:8],collapse=\"\"), '\\n')\n",
    "cat(\"Q2 - Password for the second door is: \", paste(advancedCode,collapse=\"\"), '\\n')"
   ]
  }
 ],
 "metadata": {
  "anaconda-cloud": {},
  "kernelspec": {
   "display_name": "R",
   "language": "R",
   "name": "ir"
  },
  "language_info": {
   "codemirror_mode": "r",
   "file_extension": ".r",
   "mimetype": "text/x-r-source",
   "name": "R",
   "pygments_lexer": "r",
   "version": "3.3.1"
  }
 },
 "nbformat": 4,
 "nbformat_minor": 1
}
