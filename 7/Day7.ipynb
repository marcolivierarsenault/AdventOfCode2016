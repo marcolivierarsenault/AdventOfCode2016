{
 "cells": [
  {
   "cell_type": "markdown",
   "metadata": {},
   "source": [
    "# Advent of code Day 7\n",
    "\n",
    "Goal: Regex Headche\n",
    "\n",
    "Ref: http://adventofcode.com/2016/day/7"
   ]
  },
  {
   "cell_type": "code",
   "execution_count": 1,
   "metadata": {
    "collapsed": true
   },
   "outputs": [],
   "source": [
    "library(stringr)"
   ]
  },
  {
   "cell_type": "code",
   "execution_count": 2,
   "metadata": {
    "collapsed": false
   },
   "outputs": [
    {
     "data": {
      "text/html": [
       "<ol class=list-inline>\n",
       "\t<li>\"rhamaeovmbheijj[hkwbkqzlcscwjkyjulk]ajsxfuemamuqcjccbc\"</li>\n",
       "\t<li>\"gdlrknrmexvaypu[crqappbbcaplkkzb]vhvkjyadjsryysvj[nbvypeadikilcwg]jwxlimrgakadpxu[dgoanojvdvwfabtt]yqsalmulblolkgsheo\"</li>\n",
       "\t<li>\"dqpthtgufgzjojuvzvm[eejdhpcqyiydwod]iingwezvcbtowwzc[uzlxaqenhgsebqskn]wcucfmnlarrvdceuxqc[dkwcsxeitcobaylhbvc]klxammurpqgmpsxsr\"</li>\n",
       "\t<li>\"gmmfbtpprishiujnpdi[wedykxqyntvrkfdzom]uidgvubnregvorgnhm\"</li>\n",
       "\t<li>\"txxplravpgztjqcw[txgmmtlhmqpmmwp]bmhfgpmafxqwtrpr[inntmjmgqothdzfqgxq]cvtwvembpvdmcvk\"</li>\n",
       "\t<li>\"gkxjhpayoyrrpcr[mwyoahlkqyhtznyzrm]mvmurvsrgjunjjepn[mkoumuohilpcfgbmsmh]hpwggyvjkusjxcyojyr[wqxyuzbewpjzlyqmkhw]nniczueulxtdsmkniex\"</li>\n",
       "</ol>\n"
      ],
      "text/latex": [
       "\\begin{enumerate*}\n",
       "\\item \"rhamaeovmbheijj{[}hkwbkqzlcscwjkyjulk{]}ajsxfuemamuqcjccbc\"\n",
       "\\item \"gdlrknrmexvaypu{[}crqappbbcaplkkzb{]}vhvkjyadjsryysvj{[}nbvypeadikilcwg{]}jwxlimrgakadpxu{[}dgoanojvdvwfabtt{]}yqsalmulblolkgsheo\"\n",
       "\\item \"dqpthtgufgzjojuvzvm{[}eejdhpcqyiydwod{]}iingwezvcbtowwzc{[}uzlxaqenhgsebqskn{]}wcucfmnlarrvdceuxqc{[}dkwcsxeitcobaylhbvc{]}klxammurpqgmpsxsr\"\n",
       "\\item \"gmmfbtpprishiujnpdi{[}wedykxqyntvrkfdzom{]}uidgvubnregvorgnhm\"\n",
       "\\item \"txxplravpgztjqcw{[}txgmmtlhmqpmmwp{]}bmhfgpmafxqwtrpr{[}inntmjmgqothdzfqgxq{]}cvtwvembpvdmcvk\"\n",
       "\\item \"gkxjhpayoyrrpcr{[}mwyoahlkqyhtznyzrm{]}mvmurvsrgjunjjepn{[}mkoumuohilpcfgbmsmh{]}hpwggyvjkusjxcyojyr{[}wqxyuzbewpjzlyqmkhw{]}nniczueulxtdsmkniex\"\n",
       "\\end{enumerate*}\n"
      ],
      "text/markdown": [
       "1. \"rhamaeovmbheijj[hkwbkqzlcscwjkyjulk]ajsxfuemamuqcjccbc\"\n",
       "2. \"gdlrknrmexvaypu[crqappbbcaplkkzb]vhvkjyadjsryysvj[nbvypeadikilcwg]jwxlimrgakadpxu[dgoanojvdvwfabtt]yqsalmulblolkgsheo\"\n",
       "3. \"dqpthtgufgzjojuvzvm[eejdhpcqyiydwod]iingwezvcbtowwzc[uzlxaqenhgsebqskn]wcucfmnlarrvdceuxqc[dkwcsxeitcobaylhbvc]klxammurpqgmpsxsr\"\n",
       "4. \"gmmfbtpprishiujnpdi[wedykxqyntvrkfdzom]uidgvubnregvorgnhm\"\n",
       "5. \"txxplravpgztjqcw[txgmmtlhmqpmmwp]bmhfgpmafxqwtrpr[inntmjmgqothdzfqgxq]cvtwvembpvdmcvk\"\n",
       "6. \"gkxjhpayoyrrpcr[mwyoahlkqyhtznyzrm]mvmurvsrgjunjjepn[mkoumuohilpcfgbmsmh]hpwggyvjkusjxcyojyr[wqxyuzbewpjzlyqmkhw]nniczueulxtdsmkniex\"\n",
       "\n",
       "\n"
      ],
      "text/plain": [
       "[1] \"rhamaeovmbheijj[hkwbkqzlcscwjkyjulk]ajsxfuemamuqcjccbc\"                                                                              \n",
       "[2] \"gdlrknrmexvaypu[crqappbbcaplkkzb]vhvkjyadjsryysvj[nbvypeadikilcwg]jwxlimrgakadpxu[dgoanojvdvwfabtt]yqsalmulblolkgsheo\"               \n",
       "[3] \"dqpthtgufgzjojuvzvm[eejdhpcqyiydwod]iingwezvcbtowwzc[uzlxaqenhgsebqskn]wcucfmnlarrvdceuxqc[dkwcsxeitcobaylhbvc]klxammurpqgmpsxsr\"    \n",
       "[4] \"gmmfbtpprishiujnpdi[wedykxqyntvrkfdzom]uidgvubnregvorgnhm\"                                                                           \n",
       "[5] \"txxplravpgztjqcw[txgmmtlhmqpmmwp]bmhfgpmafxqwtrpr[inntmjmgqothdzfqgxq]cvtwvembpvdmcvk\"                                               \n",
       "[6] \"gkxjhpayoyrrpcr[mwyoahlkqyhtznyzrm]mvmurvsrgjunjjepn[mkoumuohilpcfgbmsmh]hpwggyvjkusjxcyojyr[wqxyuzbewpjzlyqmkhw]nniczueulxtdsmkniex\""
      ]
     },
     "metadata": {},
     "output_type": "display_data"
    }
   ],
   "source": [
    "data <- readLines(\"data.txt\")\n",
    "head(data)"
   ]
  },
  {
   "cell_type": "code",
   "execution_count": 3,
   "metadata": {
    "collapsed": false
   },
   "outputs": [],
   "source": [
    "outside <- str_match(data,\".*(?:[^\\\\[]+|^|\\\\].*)(\\\\w)((?!\\\\1).)\\\\2\\\\1.*\") #Long to run"
   ]
  },
  {
   "cell_type": "code",
   "execution_count": 4,
   "metadata": {
    "collapsed": true
   },
   "outputs": [],
   "source": [
    "inside <- str_match(data,\".*(?:\\\\[)\\\\w*(\\\\w)((?!\\\\1).)\\\\2\\\\1\\\\w*\\\\].*\") #Long to run"
   ]
  },
  {
   "cell_type": "code",
   "execution_count": 5,
   "metadata": {
    "collapsed": true
   },
   "outputs": [],
   "source": [
    "insideList <- as.data.frame(inside)[1]\n",
    "outsideList <- as.data.frame(outside)[1]"
   ]
  },
  {
   "cell_type": "code",
   "execution_count": 6,
   "metadata": {
    "collapsed": false
   },
   "outputs": [
    {
     "data": {
      "text/html": [
       "110"
      ],
      "text/latex": [
       "110"
      ],
      "text/markdown": [
       "110"
      ],
      "text/plain": [
       "[1] 110"
      ]
     },
     "metadata": {},
     "output_type": "display_data"
    }
   ],
   "source": [
    "valid <- setdiff(which(!is.na(outsideList)),which(!is.na(insideList)))\n",
    "length(valid)"
   ]
  },
  {
   "cell_type": "markdown",
   "metadata": {},
   "source": [
    "## Part 2 \n",
    "I have decided to go with a REGEX it was a mistake I should i have done this differently.\n",
    "I should I just split the inside and outside, then simple regex to find patern and then use R logic to fix\n",
    "This is way too complex and long to run"
   ]
  },
  {
   "cell_type": "code",
   "execution_count": 7,
   "metadata": {
    "collapsed": false
   },
   "outputs": [],
   "source": [
    "partern2 <- str_match(data,\"(?:\\\\w*(?:\\\\[\\\\w*\\\\])*.*(\\\\w)(?!\\\\1)(\\\\w)\\\\1\\\\w*(?:\\\\[\\\\w*\\\\]\\\\w*)*(?:\\\\[)\\\\w*\\\\2\\\\1\\\\2.*)|(?:.*(?:\\\\[)\\\\w*(\\\\w)((?!\\\\3).)\\\\3\\\\w*\\\\]\\\\w*(?:\\\\[\\\\w*\\\\]\\\\w*)*\\\\w*\\\\4\\\\3\\\\4.*)\")"
   ]
  },
  {
   "cell_type": "code",
   "execution_count": 8,
   "metadata": {
    "collapsed": false
   },
   "outputs": [],
   "source": [
    "partern2List <- as.data.frame(partern2)[1]"
   ]
  },
  {
   "cell_type": "code",
   "execution_count": 9,
   "metadata": {
    "collapsed": false
   },
   "outputs": [
    {
     "data": {
      "text/html": [
       "242"
      ],
      "text/latex": [
       "242"
      ],
      "text/markdown": [
       "242"
      ],
      "text/plain": [
       "[1] 242"
      ]
     },
     "metadata": {},
     "output_type": "display_data"
    }
   ],
   "source": [
    "valid2 <- which(!is.na(partern2List))\n",
    "length(valid2)"
   ]
  },
  {
   "cell_type": "code",
   "execution_count": 10,
   "metadata": {
    "collapsed": false
   },
   "outputs": [
    {
     "name": "stdout",
     "output_type": "stream",
     "text": [
      "Q1 - Number of IPs that support TLS :  110 \n",
      "Q2 - Number of IPs that support SSL :  242 \n"
     ]
    }
   ],
   "source": [
    "cat(\"Q1 - Number of IPs that support TLS : \", length(valid), '\\n')\n",
    "cat(\"Q2 - Number of IPs that support SSL : \", length(valid2), '\\n')"
   ]
  }
 ],
 "metadata": {
  "anaconda-cloud": {},
  "kernelspec": {
   "display_name": "R",
   "language": "R",
   "name": "ir"
  },
  "language_info": {
   "codemirror_mode": "r",
   "file_extension": ".r",
   "mimetype": "text/x-r-source",
   "name": "R",
   "pygments_lexer": "r",
   "version": "3.3.1"
  }
 },
 "nbformat": 4,
 "nbformat_minor": 1
}
