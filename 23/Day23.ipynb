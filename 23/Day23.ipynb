{
 "cells": [
  {
   "cell_type": "markdown",
   "metadata": {},
   "source": [
    "# Advent of code Day 23\n",
    "\n",
    "Goal: Looks to be a clone of day 12.\n",
    "Hint: need to realize the logic of the puzzle (input algo)\n",
    "\n",
    "Ref: http://adventofcode.com/2016/day/23"
   ]
  },
  {
   "cell_type": "code",
   "execution_count": 1,
   "metadata": {
    "collapsed": true
   },
   "outputs": [],
   "source": [
    "library(\"stringr\")\n",
    "options(warn=-1)"
   ]
  },
  {
   "cell_type": "code",
   "execution_count": 2,
   "metadata": {
    "collapsed": false
   },
   "outputs": [],
   "source": [
    "instructions <- readLines(\"data.txt\")"
   ]
  },
  {
   "cell_type": "code",
   "execution_count": 4,
   "metadata": {
    "collapsed": false
   },
   "outputs": [],
   "source": [
    "getCustomValue <- function(bf,x){\n",
    "    if (x=='a'|x=='b'|x=='c'|x=='d')\n",
    "        return(bf[x])\n",
    "    return(x)\n",
    "}"
   ]
  },
  {
   "cell_type": "code",
   "execution_count": 5,
   "metadata": {
    "collapsed": false
   },
   "outputs": [],
   "source": [
    "position <- 1\n",
    "buffer <- list(a=7,b=0,c=0,d=0)\n",
    "while(position <= length(instructions)){\n",
    "  instruc <- str_split(instructions[position],\" \")[[1]]\n",
    "  switch(instruc[1], \n",
    "         cpy={\n",
    "           if(is.na(as.numeric(instruc[3]))){\n",
    "             buffer[instruc[3]] <- as.integer(getCustomValue(buffer,instruc[2]))\n",
    "           }\n",
    "           else {\n",
    "             print(\"------------------\")\n",
    "           }\n",
    "           position <- position+1\n",
    "         },\n",
    "         inc={\n",
    "           if(is.na(as.numeric(instruc[2]))){\n",
    "             buffer[instruc[2]] <- as.integer(buffer[instruc[2]]) + 1\n",
    "           }\n",
    "           position <- position+1\n",
    "         },\n",
    "         dec={\n",
    "           if(is.na(as.numeric(instruc[2]))){\n",
    "             buffer[instruc[2]] <- as.integer(buffer[instruc[2]]) - 1\n",
    "           }  \n",
    "           position <- position+1\n",
    "         },\n",
    "         tgl={\n",
    "           toChange <- as.integer(getCustomValue(buffer,instruc[2])) + position\n",
    "           if(toChange<=length(instructions)){\n",
    "             newInstruct <- str_split(instructions[toChange],\" \")[[1]]\n",
    "             if(length(newInstruct) == 2){\n",
    "               if (newInstruct[1]==\"inc\"){\n",
    "                 newInstruct[1] <- \"dec\"\n",
    "               } else {\n",
    "                 newInstruct[1] <- \"inc\"\n",
    "               }\n",
    "             } else {\n",
    "               if (newInstruct[1]==\"jnz\"){\n",
    "                 newInstruct[1] <- \"cpy\"\n",
    "               } else {\n",
    "                 newInstruct[1] <- \"jnz\"\n",
    "               }\n",
    "             }\n",
    "             instructions[toChange] <- paste(newInstruct, collapse = \" \")\n",
    "           }\n",
    "           position <- position+1\n",
    "         },\n",
    "         jnz={\n",
    "           if(as.integer(getCustomValue(buffer,instruc[2]))!=0){\n",
    "             position <- position + as.integer(getCustomValue(buffer,instruc[3]))\n",
    "           } \n",
    "           \n",
    "           else{\n",
    "             position <- position+1\n",
    "           }\n",
    "         },\n",
    "         {\n",
    "           print('default')\n",
    "         }\n",
    "  )\n",
    "}"
   ]
  },
  {
   "cell_type": "code",
   "execution_count": 6,
   "metadata": {
    "collapsed": false
   },
   "outputs": [
    {
     "data": {
      "text/html": [
       "12748"
      ],
      "text/latex": [
       "12748"
      ],
      "text/markdown": [
       "12748"
      ],
      "text/plain": [
       "[1] 12748"
      ]
     },
     "metadata": {},
     "output_type": "display_data"
    }
   ],
   "source": [
    "buffer['a'][[1]]"
   ]
  },
  {
   "cell_type": "markdown",
   "metadata": {},
   "source": [
    "### Puzzle logic\n",
    "\n",
    "After trying to run part 2 with the same loop, I reallyse it was almost imposible, after a quick analysis of the algo I realized that it was N Factorial of the input + big number1*big number2  in my case line 20 and 21\n"
   ]
  },
  {
   "cell_type": "code",
   "execution_count": 8,
   "metadata": {
    "collapsed": false
   },
   "outputs": [
    {
     "data": {
      "text/html": [
       "12748"
      ],
      "text/latex": [
       "12748"
      ],
      "text/markdown": [
       "12748"
      ],
      "text/plain": [
       "[1] 12748"
      ]
     },
     "metadata": {},
     "output_type": "display_data"
    }
   ],
   "source": [
    "egg1 <- 7\n",
    "big1 <- 94\n",
    "big2 <- 82\n",
    "Q1 <- factorial(egg1) + big1*big2\n",
    "Q1"
   ]
  },
  {
   "cell_type": "code",
   "execution_count": 9,
   "metadata": {
    "collapsed": false
   },
   "outputs": [
    {
     "data": {
      "text/html": [
       "479009308"
      ],
      "text/latex": [
       "479009308"
      ],
      "text/markdown": [
       "479009308"
      ],
      "text/plain": [
       "[1] 479009308"
      ]
     },
     "metadata": {},
     "output_type": "display_data"
    }
   ],
   "source": [
    "egg2 <- 12\n",
    "Q2 <- factorial(egg2) + big1*big2\n",
    "Q2"
   ]
  },
  {
   "cell_type": "code",
   "execution_count": 9,
   "metadata": {
    "collapsed": false
   },
   "outputs": [
    {
     "name": "stdout",
     "output_type": "stream",
     "text": [
      "Q1- Value in the A buffer:  318083 \n",
      "Q2- Value in the A buffer:  9227737 \n"
     ]
    }
   ],
   "source": [
    "cat(\"Q1- Value in the A buffer when the egg hint is 7: \", Q1, '\\n')\n",
    "cat(\"Q2- Value in the A buffer when the egg hint is 12: \", Q2, '\\n')"
   ]
  }
 ],
 "metadata": {
  "anaconda-cloud": {},
  "kernelspec": {
   "display_name": "R",
   "language": "R",
   "name": "ir"
  },
  "language_info": {
   "codemirror_mode": "r",
   "file_extension": ".r",
   "mimetype": "text/x-r-source",
   "name": "R",
   "pygments_lexer": "r",
   "version": "3.3.1"
  }
 },
 "nbformat": 4,
 "nbformat_minor": 1
}
