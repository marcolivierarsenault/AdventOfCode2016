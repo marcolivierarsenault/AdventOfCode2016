{
 "cells": [
  {
   "cell_type": "markdown",
   "metadata": {},
   "source": [
    "# Advent of code Day 17\n",
    "\n",
    "Goal: recursive move in a 2D plan based on MD5s\n",
    "\n",
    "Ref: http://adventofcode.com/2016/day/17"
   ]
  },
  {
   "cell_type": "code",
   "execution_count": 1,
   "metadata": {
    "collapsed": true
   },
   "outputs": [],
   "source": [
    "library(digest)"
   ]
  },
  {
   "cell_type": "code",
   "execution_count": 2,
   "metadata": {
    "collapsed": true
   },
   "outputs": [],
   "source": [
    "input <- \"rrrbmfta\"\n",
    "longest <- 0\n",
    "shortest <- 500\n",
    "shortPath <- input"
   ]
  },
  {
   "cell_type": "code",
   "execution_count": 3,
   "metadata": {
    "collapsed": true
   },
   "outputs": [],
   "source": [
    "goIn <- function(posi, path, direction){\n",
    "  #cat(posi,\"--\",path,\"--\",direction,\"==\",shortest,'\\n')\n",
    "  if(!(direction=='b'||direction=='c'||direction=='d'||direction=='e'||direction=='f')){\n",
    "    return(0)\n",
    "  }\n",
    "  if(nchar(path)>=shortest){\n",
    "    return(0)\n",
    "  }\n",
    "  if(posi==16 && nchar(path)<shortest){\n",
    "    #cat(\"*******************\")\n",
    "    #cat(nchar(path),'\\n')\n",
    "    #cat(posi,\"--\",path,\"--\",direction,\"==\",shortest,'\\n')\n",
    "    shortest <<- nchar(path)\n",
    "    shortPath <<- path\n",
    "    return(0)\n",
    "  }\n",
    "  if (posi<1){\n",
    "    return(0)\n",
    "  }\n",
    "  if (posi>16){\n",
    "    return(0)\n",
    "  }\n",
    "  x <- digest(path,\"md5\", serialize = FALSE)\n",
    "  goIn(posi-4,paste(c(path,'U'),collapse=\"\"),substr(x,1,1))#up\n",
    "  goIn(posi+4,paste(c(path,'D'),collapse=\"\"),substr(x,2,2))#down\n",
    "  if(posi%%4!=1)\n",
    "    goIn(posi-1,paste(c(path,'L'),collapse=\"\"),substr(x,3,3))#left\n",
    "  if(posi%%4!=0)\n",
    "    goIn(posi+1,paste(c(path,'R'),collapse=\"\"),substr(x,4,4))#right\n",
    "}"
   ]
  },
  {
   "cell_type": "code",
   "execution_count": 4,
   "metadata": {
    "collapsed": false
   },
   "outputs": [
    {
     "data": {
      "text/html": [
       "0"
      ],
      "text/latex": [
       "0"
      ],
      "text/markdown": [
       "0"
      ],
      "text/plain": [
       "[1] 0"
      ]
     },
     "metadata": {},
     "output_type": "display_data"
    },
    {
     "data": {
      "text/html": [
       "\"RLRDRDUDDR\""
      ],
      "text/latex": [
       "\"RLRDRDUDDR\""
      ],
      "text/markdown": [
       "\"RLRDRDUDDR\""
      ],
      "text/plain": [
       "[1] \"RLRDRDUDDR\""
      ]
     },
     "metadata": {},
     "output_type": "display_data"
    }
   ],
   "source": [
    "posi <- 1\n",
    "goIn(1, input, 'b')\n",
    "Q1 <- shortPath\n",
    "Q1 <- substr(Q1,nchar(input)+1,nchar(Q1))\n",
    "Q1"
   ]
  },
  {
   "cell_type": "code",
   "execution_count": 5,
   "metadata": {
    "collapsed": true
   },
   "outputs": [],
   "source": [
    "goIn2 <- function(posi, path, direction){\n",
    "  #cat(posi,\"--\",path,\"--\",direction,\"==\",shortest,'\\n')\n",
    "  if(!(direction=='b'||direction=='c'||direction=='d'||direction=='e'||direction=='f')){\n",
    "    return(0)\n",
    "  }\n",
    "  if(posi==16 && nchar(path)>longest){\n",
    "    #cat(\"*******************\")\n",
    "    #cat(nchar(path),'\\n')\n",
    "    #cat(posi,\"--\",path,\"--\",direction,\"==\",longest,'\\n')\n",
    "    longest <<- nchar(path)\n",
    "    return(0)\n",
    "  }  \n",
    "  if(posi==16){\n",
    "    return(0)\n",
    "  }\n",
    "  if (posi<1){\n",
    "    return(0)\n",
    "  }\n",
    "  if (posi>16){\n",
    "    return(0)\n",
    "  }\n",
    "  x <- digest(path,\"md5\", serialize = FALSE)\n",
    "  goIn2(posi-4,paste(c(path,'U'),collapse=\"\"),substr(x,1,1))#up\n",
    "  goIn2(posi+4,paste(c(path,'D'),collapse=\"\"),substr(x,2,2))#down\n",
    "  if(posi%%4!=1)\n",
    "    goIn2(posi-1,paste(c(path,'L'),collapse=\"\"),substr(x,3,3))#left\n",
    "  if(posi%%4!=0)\n",
    "    goIn2(posi+1,paste(c(path,'R'),collapse=\"\"),substr(x,4,4))#right\n",
    "}"
   ]
  },
  {
   "cell_type": "code",
   "execution_count": 6,
   "metadata": {
    "collapsed": false
   },
   "outputs": [
    {
     "data": {
      "text/html": [
       "0"
      ],
      "text/latex": [
       "0"
      ],
      "text/markdown": [
       "0"
      ],
      "text/plain": [
       "[1] 0"
      ]
     },
     "metadata": {},
     "output_type": "display_data"
    },
    {
     "data": {
      "text/html": [
       "420"
      ],
      "text/latex": [
       "420"
      ],
      "text/markdown": [
       "420"
      ],
      "text/plain": [
       "[1] 420"
      ]
     },
     "metadata": {},
     "output_type": "display_data"
    }
   ],
   "source": [
    "goIn2(1, input, 'b')\n",
    "Q2 <- (longest -8)\n",
    "Q2"
   ]
  },
  {
   "cell_type": "code",
   "execution_count": 7,
   "metadata": {
    "collapsed": false
   },
   "outputs": [
    {
     "name": "stdout",
     "output_type": "stream",
     "text": [
      "Q1- Shortest path to the vault is :  RLRDRDUDDR \n",
      "Q2- Longest path to the vault is :  420 \n"
     ]
    }
   ],
   "source": [
    "cat(\"Q1- Shortest path to the vault is : \", Q1, '\\n')\n",
    "cat(\"Q2- Longest path to the vault is : \", Q2, '\\n')"
   ]
  }
 ],
 "metadata": {
  "anaconda-cloud": {},
  "kernelspec": {
   "display_name": "R",
   "language": "R",
   "name": "ir"
  },
  "language_info": {
   "codemirror_mode": "r",
   "file_extension": ".r",
   "mimetype": "text/x-r-source",
   "name": "R",
   "pygments_lexer": "r",
   "version": "3.3.1"
  }
 },
 "nbformat": 4,
 "nbformat_minor": 1
}
