{
 "cells": [
  {
   "cell_type": "markdown",
   "metadata": {},
   "source": [
    "# Advent of code Day 6\n",
    "Look for the most/Least used Char in the messages\n",
    "Ref: http://adventofcode.com/2016/day/6"
   ]
  },
  {
   "cell_type": "code",
   "execution_count": 1,
   "metadata": {
    "collapsed": false
   },
   "outputs": [],
   "source": [
    "#Create the Matrix of char\n",
    "data <- matrix(unlist(strsplit(readLines(\"data.txt\"),\"\")),ncol=8,byrow=TRUE)"
   ]
  },
  {
   "cell_type": "markdown",
   "metadata": {},
   "source": [
    "### Look for the most used per row"
   ]
  },
  {
   "cell_type": "code",
   "execution_count": 2,
   "metadata": {
    "collapsed": false
   },
   "outputs": [
    {
     "data": {
      "text/html": [
       "\"qzedlxso\""
      ],
      "text/latex": [
       "\"qzedlxso\""
      ],
      "text/markdown": [
       "\"qzedlxso\""
      ],
      "text/plain": [
       "[1] \"qzedlxso\""
      ]
     },
     "metadata": {},
     "output_type": "display_data"
    }
   ],
   "source": [
    "q1 <- paste(apply(data, 2, function(x) names(sort(table(x), decreasing = TRUE)[1])), collapse='')\n",
    "q1"
   ]
  },
  {
   "cell_type": "markdown",
   "metadata": {},
   "source": [
    "### Look for the least used per row"
   ]
  },
  {
   "cell_type": "code",
   "execution_count": 3,
   "metadata": {
    "collapsed": false
   },
   "outputs": [
    {
     "data": {
      "text/html": [
       "\"ucmifjae\""
      ],
      "text/latex": [
       "\"ucmifjae\""
      ],
      "text/markdown": [
       "\"ucmifjae\""
      ],
      "text/plain": [
       "[1] \"ucmifjae\""
      ]
     },
     "metadata": {},
     "output_type": "display_data"
    }
   ],
   "source": [
    "q2 <- paste(apply(data, 2, function(x) names(sort(table(x), decreasing = FALSE)[1])), collapse='')\n",
    "q2"
   ]
  },
  {
   "cell_type": "markdown",
   "metadata": {},
   "source": [
    "### Final Answers"
   ]
  },
  {
   "cell_type": "code",
   "execution_count": 4,
   "metadata": {
    "collapsed": false
   },
   "outputs": [
    {
     "data": {
      "text/html": [
       "\"Q1 -- Code with most frequent char qzedlxso \n",
       "\""
      ],
      "text/latex": [
       "\"Q1 -- Code with most frequent char qzedlxso \n",
       "\""
      ],
      "text/markdown": [
       "\"Q1 -- Code with most frequent char qzedlxso \n",
       "\""
      ],
      "text/plain": [
       "[1] \"Q1 -- Code with most frequent char qzedlxso \\n\""
      ]
     },
     "metadata": {},
     "output_type": "display_data"
    },
    {
     "data": {
      "text/html": [
       "\"Q2 -- Code with least frequent char ucmifjae \n",
       "\""
      ],
      "text/latex": [
       "\"Q2 -- Code with least frequent char ucmifjae \n",
       "\""
      ],
      "text/markdown": [
       "\"Q2 -- Code with least frequent char ucmifjae \n",
       "\""
      ],
      "text/plain": [
       "[1] \"Q2 -- Code with least frequent char ucmifjae \\n\""
      ]
     },
     "metadata": {},
     "output_type": "display_data"
    }
   ],
   "source": [
    "paste(\"Q1 -- Code with most frequent char\", q1, '\\n')\n",
    "paste(\"Q2 -- Code with least frequent char\", q2, '\\n')"
   ]
  }
 ],
 "metadata": {
  "anaconda-cloud": {},
  "kernelspec": {
   "display_name": "R",
   "language": "R",
   "name": "ir"
  },
  "language_info": {
   "codemirror_mode": "r",
   "file_extension": ".r",
   "mimetype": "text/x-r-source",
   "name": "R",
   "pygments_lexer": "r",
   "version": "3.3.1"
  }
 },
 "nbformat": 4,
 "nbformat_minor": 1
}
