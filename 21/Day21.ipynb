{
 "cells": [
  {
   "cell_type": "markdown",
   "metadata": {},
   "source": [
    "# Advent of code Day 21\n",
    "\n",
    "Goal: Password Encryption en decryption\n",
    "\n",
    "Ref: http://adventofcode.com/2016/day/21"
   ]
  },
  {
   "cell_type": "code",
   "execution_count": 6,
   "metadata": {
    "collapsed": false
   },
   "outputs": [],
   "source": [
    "library(foreach)\n",
    "library(stringr)\n",
    "library(binhf)"
   ]
  },
  {
   "cell_type": "code",
   "execution_count": 2,
   "metadata": {
    "collapsed": false
   },
   "outputs": [],
   "source": [
    "input <- readLines(\"data.txt\")"
   ]
  },
  {
   "cell_type": "code",
   "execution_count": 3,
   "metadata": {
    "collapsed": false
   },
   "outputs": [],
   "source": [
    "password <- c('a','b','c','d','e','f','g','h')\n",
    "#password <- c('a','b','c','d','e')\n",
    "a <- foreach(i=input) %do% {\n",
    "    cmd <- str_split(i,\" \")[[1]]\n",
    "    switch(paste(c(cmd[[1]],cmd[[2]]),collapse=\"\"), \n",
    "        swapposition={\n",
    "           tmp <- password[[as.integer(cmd[[3]])+1]]            \n",
    "           password[[as.integer(cmd[[3]])+1]] <- password[[as.integer(cmd[[6]])+1]]\n",
    "           password[[as.integer(cmd[[6]])+1]] <- tmp\n",
    "      #  print(password)\n",
    "        },\n",
    "        swapletter={\n",
    "            tmp <- cmd[[3]]\n",
    "            tmp2 <- cmd[[6]]\n",
    "            password <- str_replace(password, cmd[[3]], 'X')\n",
    "            password <- str_replace(password, cmd[[6]], tmp)\n",
    "            password <- str_replace(password, 'X', tmp2) \n",
    "      #  print(password) \n",
    "        },\n",
    "        reversepositions={\n",
    "            from <- as.integer(cmd[[3]])+1\n",
    "            to <- as.integer(cmd[[5]])+1\n",
    "            password[from:to] <- rev(password[from:to])\n",
    "       # print(password) \n",
    "        },\n",
    "        rotateleft={\n",
    "            password <- shift(password,as.integer(cmd[[3]]),dir = \"left\")\n",
    "      #  print(password) \n",
    "        },\n",
    "        rotateright={\n",
    "            password <- shift(password,as.integer(cmd[[3]]),dir = \"right\")\n",
    "       # print(password) \n",
    "        },\n",
    "        moveposition={\n",
    "            from <- as.integer(cmd[[3]])+1\n",
    "            to <- as.integer(cmd[[6]])\n",
    "            tmp <- password[[from]]\n",
    "            password <- append(password[-from],tmp,to)\n",
    "        #print(password) \n",
    "        },\n",
    "        rotatebased={\n",
    "        value <-  which(password == cmd[[7]]) - 1\n",
    "        value <- value + if(value >= 4) 2 else 1\n",
    "      #  print(value)\n",
    "        password <- shift(password, value%%length(password), dir = \"right\")\n",
    "       # print(password) \n",
    "        },\n",
    "        {\n",
    "           print('default')\n",
    "        }\n",
    "    )\n",
    "       # print(paste(password,collapse=\"\"))\n",
    "    \n",
    "}\n",
    "Q1 <- paste(password,collapse=\"\")"
   ]
  },
  {
   "cell_type": "code",
   "execution_count": 4,
   "metadata": {
    "collapsed": false
   },
   "outputs": [
    {
     "data": {
      "text/html": [
       "\"bcfaegdh\""
      ],
      "text/latex": [
       "\"bcfaegdh\""
      ],
      "text/markdown": [
       "\"bcfaegdh\""
      ],
      "text/plain": [
       "[1] \"bcfaegdh\""
      ]
     },
     "metadata": {},
     "output_type": "display_data"
    }
   ],
   "source": [
    "password <- c('f','b','g','d','c','e','a','h')\n",
    "#password <- c('a','b','c','d','e')\n",
    "#paste(password,collapse=\"\")\n",
    "a <- foreach(i=rev(input)) %do% {\n",
    "    cmd <- str_split(i,\" \")[[1]]\n",
    "    switch(paste(c(cmd[[1]],cmd[[2]]),collapse=\"\"), \n",
    "        swapposition={\n",
    "           tmp <- password[[as.integer(cmd[[3]])+1]]            \n",
    "           password[[as.integer(cmd[[3]])+1]] <- password[[as.integer(cmd[[6]])+1]]\n",
    "           password[[as.integer(cmd[[6]])+1]] <- tmp\n",
    "      #  print(password)\n",
    "        },\n",
    "        swapletter={\n",
    "            tmp <- cmd[[3]]\n",
    "            tmp2 <- cmd[[6]]\n",
    "            password <- str_replace(password, cmd[[3]], 'X')\n",
    "            password <- str_replace(password, cmd[[6]], tmp)\n",
    "            password <- str_replace(password, 'X', tmp2) \n",
    "      #  print(password) \n",
    "        },\n",
    "        reversepositions={\n",
    "            from <- as.integer(cmd[[3]])+1\n",
    "            to <- as.integer(cmd[[5]])+1\n",
    "            password[from:to] <- rev(password[from:to])\n",
    "       # print(password) \n",
    "        },\n",
    "        rotateleft={\n",
    "            password <- shift(password,as.integer(cmd[[3]]),dir = \"right\")\n",
    "      #  print(password) \n",
    "        },\n",
    "        rotateright={\n",
    "            password <- shift(password,as.integer(cmd[[3]]),dir = \"left\")\n",
    "       # print(password) \n",
    "        },\n",
    "        moveposition={\n",
    "            from <- as.integer(cmd[[6]])+1\n",
    "            to <- as.integer(cmd[[3]])\n",
    "            tmp <- password[[from]]\n",
    "            password <- append(password[-from],tmp,to)\n",
    "        #print(password) \n",
    "        },\n",
    "        rotatebased={\n",
    "            tmp <- password\n",
    "            while(TRUE){\n",
    "                password <- shift(password, 1, dir = \"left\")\n",
    "                value <-  which(password == cmd[[7]]) - 1\n",
    "                value <- value + if(value >= 4) 2 else 1\n",
    "                if(all(shift(password, value%%length(password), dir = \"right\")==tmp))\n",
    "                    break\n",
    "                       \n",
    "            }\n",
    "        },\n",
    "        {\n",
    "           print('default')\n",
    "        }\n",
    "    )\n",
    "        #print(paste(password,collapse=\"\"))\n",
    "}\n",
    "Q2 <- paste(password,collapse=\"\")\n",
    "Q2"
   ]
  },
  {
   "cell_type": "code",
   "execution_count": 5,
   "metadata": {
    "collapsed": false
   },
   "outputs": [
    {
     "name": "stdout",
     "output_type": "stream",
     "text": [
      "Q1- The first password is :  gbhafcde \n",
      "Q2- The original input for the second password is :  bcfaegdh \n"
     ]
    }
   ],
   "source": [
    "cat(\"Q1- The first password is : \", Q1, '\\n')\n",
    "cat(\"Q2- The original input for the second password is : \", Q2, '\\n')"
   ]
  }
 ],
 "metadata": {
  "anaconda-cloud": {},
  "kernelspec": {
   "display_name": "R",
   "language": "R",
   "name": "ir"
  },
  "language_info": {
   "codemirror_mode": "r",
   "file_extension": ".r",
   "mimetype": "text/x-r-source",
   "name": "R",
   "pygments_lexer": "r",
   "version": "3.3.1"
  }
 },
 "nbformat": 4,
 "nbformat_minor": 1
}
