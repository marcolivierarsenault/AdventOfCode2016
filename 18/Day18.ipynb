{
 "cells": [
  {
   "cell_type": "markdown",
   "metadata": {},
   "source": [
    "# Advent of code Day 18\n",
    "\n",
    "Goal: play with string in a game of live \n",
    "\n",
    "Ref: http://adventofcode.com/2016/day/18"
   ]
  },
  {
   "cell_type": "code",
   "execution_count": 1,
   "metadata": {
    "collapsed": false
   },
   "outputs": [],
   "source": [
    "library(stringr)"
   ]
  },
  {
   "cell_type": "code",
   "execution_count": 2,
   "metadata": {
    "collapsed": true
   },
   "outputs": [],
   "source": [
    "inputString <- \"^.....^.^^^^^.^..^^.^.......^^..^^^..^^^^..^.^^.^.^....^^...^^.^^.^...^^.^^^^..^^.....^.^...^.^.^^.^\"\n",
    "sizeQ1 <- 40\n",
    "sizeQ2 <- 400000"
   ]
  },
  {
   "cell_type": "code",
   "execution_count": 3,
   "metadata": {
    "collapsed": false
   },
   "outputs": [],
   "source": [
    "computeTheShit <- function(input, size){\n",
    "    latest <- c(\".\", strsplit(input,\"\")[[1]], \".\" )\n",
    "    total <- list(latest)\n",
    "    while(length(total)<size){\n",
    "        tmp <- \".\"\n",
    "        for(i in 2:(length(latest)-1)){\n",
    "            #tmp <- c(tmp,latest[i])\n",
    "            upper <- paste(latest[(i-1):(i+1)],collapse=\"\")\n",
    "            #print(upper)\n",
    "            switch(upper, \n",
    "            \"^^.\"={\n",
    "              tmp <- c(tmp,'^')\n",
    "            },\n",
    "            \".^^\"={\n",
    "              tmp <- c(tmp,'^')  \n",
    "            },\n",
    "            \"^..\"={\n",
    "              tmp <- c(tmp,'^')  \n",
    "            },\n",
    "            \"..^\"={\n",
    "              tmp <- c(tmp,'^')  \n",
    "            },\n",
    "            {\n",
    "               tmp <- c(tmp,'.')\n",
    "            }\n",
    "            )\n",
    "        }\n",
    "        tmp <- c(tmp,\".\")\n",
    "        total[[length(total)+1]] <- tmp\n",
    "        latest <- tmp\n",
    "    }    \n",
    "    return(sum(str_count(total,\"\\\\.\"))-length(total)*2)#sum(str_count(total,\"\\\\.\"))-length(total)*2\n",
    "}\n"
   ]
  },
  {
   "cell_type": "code",
   "execution_count": 4,
   "metadata": {
    "collapsed": false
   },
   "outputs": [
    {
     "data": {
      "text/html": [
       "1974"
      ],
      "text/latex": [
       "1974"
      ],
      "text/markdown": [
       "1974"
      ],
      "text/plain": [
       "[1] 1974"
      ]
     },
     "metadata": {},
     "output_type": "display_data"
    }
   ],
   "source": [
    "Q1 <- computeTheShit(inputString, sizeQ1)\n",
    "Q1"
   ]
  },
  {
   "cell_type": "code",
   "execution_count": 5,
   "metadata": {
    "collapsed": false
   },
   "outputs": [
    {
     "data": {
      "text/html": [
       "19991126"
      ],
      "text/latex": [
       "19991126"
      ],
      "text/markdown": [
       "19991126"
      ],
      "text/plain": [
       "[1] 19991126"
      ]
     },
     "metadata": {},
     "output_type": "display_data"
    }
   ],
   "source": [
    "Q2 <- computeTheShit(inputString, sizeQ2)\n",
    "Q2"
   ]
  },
  {
   "cell_type": "code",
   "execution_count": 6,
   "metadata": {
    "collapsed": false
   },
   "outputs": [
    {
     "name": "stdout",
     "output_type": "stream",
     "text": [
      "Q1- Shortest path to the vault is :  1974 \n",
      "Q2- Longest path to the vault is :  19991126 \n"
     ]
    }
   ],
   "source": [
    "cat(\"Q1- Shortest path to the vault is : \", Q1, '\\n')\n",
    "cat(\"Q2- Longest path to the vault is : \", Q2, '\\n')"
   ]
  }
 ],
 "metadata": {
  "anaconda-cloud": {},
  "kernelspec": {
   "display_name": "R",
   "language": "R",
   "name": "ir"
  },
  "language_info": {
   "codemirror_mode": "r",
   "file_extension": ".r",
   "mimetype": "text/x-r-source",
   "name": "R",
   "pygments_lexer": "r",
   "version": "3.3.1"
  }
 },
 "nbformat": 4,
 "nbformat_minor": 1
}
