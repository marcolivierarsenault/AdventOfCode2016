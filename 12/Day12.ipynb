{
 "cells": [
  {
   "cell_type": "markdown",
   "metadata": {},
   "source": [
    "# Advent of code Day 12\n",
    "\n",
    "Goal: Create a small Microcontroller for custom assembly\n",
    "\n",
    "Ref: http://adventofcode.com/2016/day/12"
   ]
  },
  {
   "cell_type": "code",
   "execution_count": 1,
   "metadata": {
    "collapsed": true
   },
   "outputs": [],
   "source": [
    "library(\"stringr\")"
   ]
  },
  {
   "cell_type": "code",
   "execution_count": 2,
   "metadata": {
    "collapsed": false
   },
   "outputs": [],
   "source": [
    "instructions <- readLines(\"data.txt\")"
   ]
  },
  {
   "cell_type": "code",
   "execution_count": 3,
   "metadata": {
    "collapsed": false
   },
   "outputs": [
    {
     "data": {
      "text/html": [
       "<ol class=list-inline>\n",
       "\t<li>\"cpy 1 a\"</li>\n",
       "\t<li>\"cpy 1 b\"</li>\n",
       "\t<li>\"cpy 26 d\"</li>\n",
       "\t<li>\"jnz c 2\"</li>\n",
       "\t<li>\"jnz 1 5\"</li>\n",
       "\t<li>\"cpy 7 c\"</li>\n",
       "\t<li>\"inc d\"</li>\n",
       "\t<li>\"dec c\"</li>\n",
       "\t<li>\"jnz c -2\"</li>\n",
       "\t<li>\"cpy a c\"</li>\n",
       "\t<li>\"inc a\"</li>\n",
       "\t<li>\"dec b\"</li>\n",
       "\t<li>\"jnz b -2\"</li>\n",
       "\t<li>\"cpy c b\"</li>\n",
       "\t<li>\"dec d\"</li>\n",
       "\t<li>\"jnz d -6\"</li>\n",
       "\t<li>\"cpy 16 c\"</li>\n",
       "\t<li>\"cpy 17 d\"</li>\n",
       "\t<li>\"inc a\"</li>\n",
       "\t<li>\"dec d\"</li>\n",
       "\t<li>\"jnz d -2\"</li>\n",
       "\t<li>\"dec c\"</li>\n",
       "\t<li>\"jnz c -5\"</li>\n",
       "</ol>\n"
      ],
      "text/latex": [
       "\\begin{enumerate*}\n",
       "\\item \"cpy 1 a\"\n",
       "\\item \"cpy 1 b\"\n",
       "\\item \"cpy 26 d\"\n",
       "\\item \"jnz c 2\"\n",
       "\\item \"jnz 1 5\"\n",
       "\\item \"cpy 7 c\"\n",
       "\\item \"inc d\"\n",
       "\\item \"dec c\"\n",
       "\\item \"jnz c -2\"\n",
       "\\item \"cpy a c\"\n",
       "\\item \"inc a\"\n",
       "\\item \"dec b\"\n",
       "\\item \"jnz b -2\"\n",
       "\\item \"cpy c b\"\n",
       "\\item \"dec d\"\n",
       "\\item \"jnz d -6\"\n",
       "\\item \"cpy 16 c\"\n",
       "\\item \"cpy 17 d\"\n",
       "\\item \"inc a\"\n",
       "\\item \"dec d\"\n",
       "\\item \"jnz d -2\"\n",
       "\\item \"dec c\"\n",
       "\\item \"jnz c -5\"\n",
       "\\end{enumerate*}\n"
      ],
      "text/markdown": [
       "1. \"cpy 1 a\"\n",
       "2. \"cpy 1 b\"\n",
       "3. \"cpy 26 d\"\n",
       "4. \"jnz c 2\"\n",
       "5. \"jnz 1 5\"\n",
       "6. \"cpy 7 c\"\n",
       "7. \"inc d\"\n",
       "8. \"dec c\"\n",
       "9. \"jnz c -2\"\n",
       "10. \"cpy a c\"\n",
       "11. \"inc a\"\n",
       "12. \"dec b\"\n",
       "13. \"jnz b -2\"\n",
       "14. \"cpy c b\"\n",
       "15. \"dec d\"\n",
       "16. \"jnz d -6\"\n",
       "17. \"cpy 16 c\"\n",
       "18. \"cpy 17 d\"\n",
       "19. \"inc a\"\n",
       "20. \"dec d\"\n",
       "21. \"jnz d -2\"\n",
       "22. \"dec c\"\n",
       "23. \"jnz c -5\"\n",
       "\n",
       "\n"
      ],
      "text/plain": [
       " [1] \"cpy 1 a\"  \"cpy 1 b\"  \"cpy 26 d\" \"jnz c 2\"  \"jnz 1 5\"  \"cpy 7 c\" \n",
       " [7] \"inc d\"    \"dec c\"    \"jnz c -2\" \"cpy a c\"  \"inc a\"    \"dec b\"   \n",
       "[13] \"jnz b -2\" \"cpy c b\"  \"dec d\"    \"jnz d -6\" \"cpy 16 c\" \"cpy 17 d\"\n",
       "[19] \"inc a\"    \"dec d\"    \"jnz d -2\" \"dec c\"    \"jnz c -5\""
      ]
     },
     "metadata": {},
     "output_type": "display_data"
    }
   ],
   "source": [
    "instructions"
   ]
  },
  {
   "cell_type": "code",
   "execution_count": 4,
   "metadata": {
    "collapsed": false
   },
   "outputs": [],
   "source": [
    "getCustomValue <- function(bf,x){\n",
    "    if (x=='a'|x=='b'|x=='c'|x=='d')\n",
    "        return(bf[x])\n",
    "    return(x)\n",
    "}"
   ]
  },
  {
   "cell_type": "code",
   "execution_count": 5,
   "metadata": {
    "collapsed": false
   },
   "outputs": [],
   "source": [
    "position <- 1\n",
    "buffer <- list(a=0,b=0,c=0,d=0)\n",
    "while(position <= length(instructions)){\n",
    "    instruc <- str_split(instructions[position],\" \")[[1]]\n",
    "    switch(instruc[1], \n",
    "        cpy={\n",
    "          buffer[instruc[3]] <- as.integer(getCustomValue(buffer,instruc[2]))\n",
    "          position <- position+1\n",
    "        },\n",
    "        inc={\n",
    "          buffer[instruc[2]] <- as.integer(buffer[instruc[2]]) + 1 \n",
    "          position <- position+1\n",
    "        },\n",
    "        dec={\n",
    "          buffer[instruc[2]] <- as.integer(buffer[instruc[2]]) - 1     \n",
    "          position <- position+1\n",
    "        },\n",
    "        jnz={\n",
    "          if(as.integer(getCustomValue(buffer,instruc[2]))!=0){\n",
    "             position <- position + as.integer(getCustomValue(buffer,instruc[3]))\n",
    "          } \n",
    "           \n",
    "          else{\n",
    "              position <- position+1\n",
    "          }\n",
    "        },\n",
    "        {\n",
    "           print('default')\n",
    "        }\n",
    "    )\n",
    "}"
   ]
  },
  {
   "cell_type": "code",
   "execution_count": 6,
   "metadata": {
    "collapsed": false
   },
   "outputs": [
    {
     "data": {
      "text/html": [
       "318083"
      ],
      "text/latex": [
       "318083"
      ],
      "text/markdown": [
       "318083"
      ],
      "text/plain": [
       "[1] 318083"
      ]
     },
     "metadata": {},
     "output_type": "display_data"
    }
   ],
   "source": [
    "buffer['a'][[1]]"
   ]
  },
  {
   "cell_type": "code",
   "execution_count": 7,
   "metadata": {
    "collapsed": false
   },
   "outputs": [],
   "source": [
    "position <- 1\n",
    "buffer2 <- list(a=0,b=0,c=1,d=0)\n",
    "while(position <= length(instructions)){\n",
    "    instruc <- str_split(instructions[position],\" \")[[1]]\n",
    "    switch(instruc[1], \n",
    "        cpy={\n",
    "          buffer2[instruc[3]] <- as.integer(getCustomValue(buffer2,instruc[2]))\n",
    "          position <- position+1\n",
    "        },\n",
    "        inc={\n",
    "          buffer2[instruc[2]] <- as.integer(buffer2[instruc[2]]) + 1 \n",
    "          position <- position+1\n",
    "        },\n",
    "        dec={\n",
    "          buffer2[instruc[2]] <- as.integer(buffer2[instruc[2]]) - 1     \n",
    "          position <- position+1\n",
    "        },\n",
    "        jnz={\n",
    "          if(as.integer(getCustomValue(buffer2,instruc[2]))!=0){\n",
    "             position <- position + as.integer(getCustomValue(buffer2,instruc[3]))\n",
    "          } \n",
    "           \n",
    "          else{\n",
    "              position <- position+1\n",
    "          }\n",
    "        },\n",
    "        {\n",
    "           print('default')\n",
    "        }\n",
    "    )\n",
    "}"
   ]
  },
  {
   "cell_type": "code",
   "execution_count": 8,
   "metadata": {
    "collapsed": false
   },
   "outputs": [
    {
     "data": {
      "text/html": [
       "9227737"
      ],
      "text/latex": [
       "9227737"
      ],
      "text/markdown": [
       "9227737"
      ],
      "text/plain": [
       "[1] 9227737"
      ]
     },
     "metadata": {},
     "output_type": "display_data"
    }
   ],
   "source": [
    "buffer2['a'][[1]]"
   ]
  },
  {
   "cell_type": "code",
   "execution_count": 9,
   "metadata": {
    "collapsed": false
   },
   "outputs": [
    {
     "name": "stdout",
     "output_type": "stream",
     "text": [
      "Q1- Value in the A buffer:  318083 \n",
      "Q2- Value in the A buffer:  9227737 \n"
     ]
    }
   ],
   "source": [
    "cat(\"Q1- Value in the A buffer: \", buffer['a'][[1]], '\\n')\n",
    "cat(\"Q2- Value in the A buffer: \", buffer2['a'][[1]], '\\n')"
   ]
  }
 ],
 "metadata": {
  "anaconda-cloud": {},
  "kernelspec": {
   "display_name": "R",
   "language": "R",
   "name": "ir"
  },
  "language_info": {
   "codemirror_mode": "r",
   "file_extension": ".r",
   "mimetype": "text/x-r-source",
   "name": "R",
   "pygments_lexer": "r",
   "version": "3.3.1"
  }
 },
 "nbformat": 4,
 "nbformat_minor": 1
}
