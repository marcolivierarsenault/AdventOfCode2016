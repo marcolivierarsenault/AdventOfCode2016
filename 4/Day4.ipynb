{
 "cells": [
  {
   "cell_type": "markdown",
   "metadata": {},
   "source": [
    "# Advent of code Day 4\n",
    "Ref: http://adventofcode.com/2016/day/4"
   ]
  },
  {
   "cell_type": "code",
   "execution_count": 1,
   "metadata": {
    "collapsed": true
   },
   "outputs": [],
   "source": [
    "library(foreach)\n",
    "library(stringr)"
   ]
  },
  {
   "cell_type": "code",
   "execution_count": 2,
   "metadata": {
    "collapsed": false
   },
   "outputs": [
    {
     "name": "stdout",
     "output_type": "stream",
     "text": [
      " chr [1:935] \"vxupkizork-sgmtkzoi-pkrrehkgt-zxgototm-644[kotgr]\" ...\n"
     ]
    }
   ],
   "source": [
    "data <- readLines(\"data.txt\")\n",
    "str(data)"
   ]
  },
  {
   "cell_type": "markdown",
   "metadata": {},
   "source": [
    "### Parsing string with regex"
   ]
  },
  {
   "cell_type": "code",
   "execution_count": 3,
   "metadata": {
    "collapsed": false
   },
   "outputs": [
    {
     "data": {
      "text/html": [
       "<ol>\n",
       "\t<li><ol class=list-inline>\n",
       "\t<li>\"vxupkizork-sgmtkzoi-pkrrehkgt-zxgototm\"</li>\n",
       "\t<li>\"644\"</li>\n",
       "\t<li>\"kotgr\"</li>\n",
       "</ol>\n",
       "</li>\n",
       "\t<li><ol class=list-inline>\n",
       "\t<li>\"mbiyqoxsm-pvygob-nocsqx\"</li>\n",
       "\t<li>\"900\"</li>\n",
       "\t<li>\"obmqs\"</li>\n",
       "</ol>\n",
       "</li>\n",
       "\t<li><ol class=list-inline>\n",
       "\t<li>\"veqtekmrk-ikk-hitpscqirx\"</li>\n",
       "\t<li>\"334\"</li>\n",
       "\t<li>\"nrtws\"</li>\n",
       "</ol>\n",
       "</li>\n",
       "\t<li><ol class=list-inline>\n",
       "\t<li>\"gvcskirmg-fyrrc-irkmriivmrk\"</li>\n",
       "\t<li>\"932\"</li>\n",
       "\t<li>\"rikmc\"</li>\n",
       "</ol>\n",
       "</li>\n",
       "\t<li><ol class=list-inline>\n",
       "\t<li>\"xmtjbzidx-xviyt-yzqzgjkhzio\"</li>\n",
       "\t<li>\"187\"</li>\n",
       "\t<li>\"yzfeu\"</li>\n",
       "</ol>\n",
       "</li>\n",
       "\t<li><ol class=list-inline>\n",
       "\t<li>\"bwx-amkzmb-kivlg-kwibqvo-lmaqov\"</li>\n",
       "\t<li>\"798\"</li>\n",
       "\t<li>\"bkmva\"</li>\n",
       "</ol>\n",
       "</li>\n",
       "</ol>\n"
      ],
      "text/latex": [
       "\\begin{enumerate}\n",
       "\\item \\begin{enumerate*}\n",
       "\\item \"vxupkizork-sgmtkzoi-pkrrehkgt-zxgototm\"\n",
       "\\item \"644\"\n",
       "\\item \"kotgr\"\n",
       "\\end{enumerate*}\n",
       "\n",
       "\\item \\begin{enumerate*}\n",
       "\\item \"mbiyqoxsm-pvygob-nocsqx\"\n",
       "\\item \"900\"\n",
       "\\item \"obmqs\"\n",
       "\\end{enumerate*}\n",
       "\n",
       "\\item \\begin{enumerate*}\n",
       "\\item \"veqtekmrk-ikk-hitpscqirx\"\n",
       "\\item \"334\"\n",
       "\\item \"nrtws\"\n",
       "\\end{enumerate*}\n",
       "\n",
       "\\item \\begin{enumerate*}\n",
       "\\item \"gvcskirmg-fyrrc-irkmriivmrk\"\n",
       "\\item \"932\"\n",
       "\\item \"rikmc\"\n",
       "\\end{enumerate*}\n",
       "\n",
       "\\item \\begin{enumerate*}\n",
       "\\item \"xmtjbzidx-xviyt-yzqzgjkhzio\"\n",
       "\\item \"187\"\n",
       "\\item \"yzfeu\"\n",
       "\\end{enumerate*}\n",
       "\n",
       "\\item \\begin{enumerate*}\n",
       "\\item \"bwx-amkzmb-kivlg-kwibqvo-lmaqov\"\n",
       "\\item \"798\"\n",
       "\\item \"bkmva\"\n",
       "\\end{enumerate*}\n",
       "\n",
       "\\end{enumerate}\n"
      ],
      "text/markdown": [
       "1. 1. \"vxupkizork-sgmtkzoi-pkrrehkgt-zxgototm\"\n",
       "2. \"644\"\n",
       "3. \"kotgr\"\n",
       "\n",
       "\n",
       "\n",
       "2. 1. \"mbiyqoxsm-pvygob-nocsqx\"\n",
       "2. \"900\"\n",
       "3. \"obmqs\"\n",
       "\n",
       "\n",
       "\n",
       "3. 1. \"veqtekmrk-ikk-hitpscqirx\"\n",
       "2. \"334\"\n",
       "3. \"nrtws\"\n",
       "\n",
       "\n",
       "\n",
       "4. 1. \"gvcskirmg-fyrrc-irkmriivmrk\"\n",
       "2. \"932\"\n",
       "3. \"rikmc\"\n",
       "\n",
       "\n",
       "\n",
       "5. 1. \"xmtjbzidx-xviyt-yzqzgjkhzio\"\n",
       "2. \"187\"\n",
       "3. \"yzfeu\"\n",
       "\n",
       "\n",
       "\n",
       "6. 1. \"bwx-amkzmb-kivlg-kwibqvo-lmaqov\"\n",
       "2. \"798\"\n",
       "3. \"bkmva\"\n",
       "\n",
       "\n",
       "\n",
       "\n",
       "\n"
      ],
      "text/plain": [
       "[[1]]\n",
       "[1] \"vxupkizork-sgmtkzoi-pkrrehkgt-zxgototm\"\n",
       "[2] \"644\"                                   \n",
       "[3] \"kotgr\"                                 \n",
       "\n",
       "[[2]]\n",
       "[1] \"mbiyqoxsm-pvygob-nocsqx\" \"900\"                    \n",
       "[3] \"obmqs\"                  \n",
       "\n",
       "[[3]]\n",
       "[1] \"veqtekmrk-ikk-hitpscqirx\" \"334\"                     \n",
       "[3] \"nrtws\"                   \n",
       "\n",
       "[[4]]\n",
       "[1] \"gvcskirmg-fyrrc-irkmriivmrk\" \"932\"                        \n",
       "[3] \"rikmc\"                      \n",
       "\n",
       "[[5]]\n",
       "[1] \"xmtjbzidx-xviyt-yzqzgjkhzio\" \"187\"                        \n",
       "[3] \"yzfeu\"                      \n",
       "\n",
       "[[6]]\n",
       "[1] \"bwx-amkzmb-kivlg-kwibqvo-lmaqov\" \"798\"                            \n",
       "[3] \"bkmva\"                          \n"
      ]
     },
     "metadata": {},
     "output_type": "display_data"
    }
   ],
   "source": [
    "parsedData <- gsub(\"(.*)\\\\-+(\\\\d+)\\\\[(.*)\\\\]\", '\\\\1:\\\\2:\\\\3', data, perl = TRUE)\n",
    "parsedData <- strsplit(parsedData, ':')\n",
    "head(parsedData)"
   ]
  },
  {
   "cell_type": "markdown",
   "metadata": {},
   "source": [
    "### Turn into a dataframe "
   ]
  },
  {
   "cell_type": "code",
   "execution_count": 4,
   "metadata": {
    "collapsed": false
   },
   "outputs": [
    {
     "data": {
      "text/html": [
       "<table>\n",
       "<thead><tr><th></th><th scope=col>code</th><th scope=col>value</th><th scope=col>checksum</th></tr></thead>\n",
       "<tbody>\n",
       "\t<tr><th scope=row>1</th><td>vxupkizork-sgmtkzoi-pkrrehkgt-zxgototm</td><td>644                                   </td><td>kotgr                                 </td></tr>\n",
       "\t<tr><th scope=row>2</th><td>mbiyqoxsm-pvygob-nocsqx</td><td>900                    </td><td>obmqs                  </td></tr>\n",
       "\t<tr><th scope=row>3</th><td>veqtekmrk-ikk-hitpscqirx</td><td>334                     </td><td>nrtws                   </td></tr>\n",
       "\t<tr><th scope=row>4</th><td>gvcskirmg-fyrrc-irkmriivmrk</td><td>932                        </td><td>rikmc                      </td></tr>\n",
       "\t<tr><th scope=row>5</th><td>xmtjbzidx-xviyt-yzqzgjkhzio</td><td>187                        </td><td>yzfeu                      </td></tr>\n",
       "\t<tr><th scope=row>6</th><td>bwx-amkzmb-kivlg-kwibqvo-lmaqov</td><td>798                            </td><td>bkmva                          </td></tr>\n",
       "</tbody>\n",
       "</table>\n"
      ],
      "text/latex": [
       "\\begin{tabular}{r|lll}\n",
       "  & code & value & checksum\\\\\n",
       "\\hline\n",
       "\t1 & vxupkizork-sgmtkzoi-pkrrehkgt-zxgototm & 644                                    & kotgr                                 \\\\\n",
       "\t2 & mbiyqoxsm-pvygob-nocsqx & 900                     & obmqs                  \\\\\n",
       "\t3 & veqtekmrk-ikk-hitpscqirx & 334                      & nrtws                   \\\\\n",
       "\t4 & gvcskirmg-fyrrc-irkmriivmrk & 932                         & rikmc                      \\\\\n",
       "\t5 & xmtjbzidx-xviyt-yzqzgjkhzio & 187                         & yzfeu                      \\\\\n",
       "\t6 & bwx-amkzmb-kivlg-kwibqvo-lmaqov & 798                             & bkmva                          \\\\\n",
       "\\end{tabular}\n"
      ],
      "text/plain": [
       "                                    code value checksum\n",
       "1 vxupkizork-sgmtkzoi-pkrrehkgt-zxgototm   644    kotgr\n",
       "2                mbiyqoxsm-pvygob-nocsqx   900    obmqs\n",
       "3               veqtekmrk-ikk-hitpscqirx   334    nrtws\n",
       "4            gvcskirmg-fyrrc-irkmriivmrk   932    rikmc\n",
       "5            xmtjbzidx-xviyt-yzqzgjkhzio   187    yzfeu\n",
       "6        bwx-amkzmb-kivlg-kwibqvo-lmaqov   798    bkmva"
      ]
     },
     "metadata": {},
     "output_type": "display_data"
    }
   ],
   "source": [
    "dataf <-  as.data.frame(matrix(unlist(parsedData), ncol = 3, byrow=T))\n",
    "colnames(dataf)<- c(\"code\",\"value\",\"checksum\")\n",
    "head(dataf)"
   ]
  },
  {
   "cell_type": "markdown",
   "metadata": {},
   "source": [
    "### Create new column that process the checksum"
   ]
  },
  {
   "cell_type": "code",
   "execution_count": 5,
   "metadata": {
    "collapsed": false
   },
   "outputs": [],
   "source": [
    "# Simple parsing in int of the value column\n",
    "dataf$value <- strtoi(dataf$value, base = 0L)"
   ]
  },
  {
   "cell_type": "code",
   "execution_count": 6,
   "metadata": {
    "collapsed": false
   },
   "outputs": [],
   "source": [
    "dataf$Valid <- apply(dataf, 1, function(x) {\n",
    "    a<-(sort(table(strsplit(gsub(\"-\",\"\",x[1]),\"\")), decreasing = TRUE)[1:5])\n",
    "    paste(attributes(a)$dimnames[[1]], collapse = '') == x[3]\n",
    "})"
   ]
  },
  {
   "cell_type": "code",
   "execution_count": 7,
   "metadata": {
    "collapsed": false
   },
   "outputs": [
    {
     "data": {
      "text/html": [
       "511391"
      ],
      "text/latex": [
       "511391"
      ],
      "text/markdown": [
       "511391"
      ],
      "text/plain": [
       "[1] 511391"
      ]
     },
     "metadata": {},
     "output_type": "display_data"
    },
    {
     "data": {
      "text/html": [
       "137896"
      ],
      "text/latex": [
       "137896"
      ],
      "text/markdown": [
       "137896"
      ],
      "text/plain": [
       "[1] 137896"
      ]
     },
     "metadata": {},
     "output_type": "display_data"
    }
   ],
   "source": [
    "sum(dataf$value) # Complete Sum\n",
    "sum(dataf$value[dataf$Valid]) #Sum when Valid"
   ]
  },
  {
   "cell_type": "markdown",
   "metadata": {},
   "source": [
    "### Create Caesar Cipher\n",
    "Stolen with pride from: https://github.com/johnmyleswhite/JuliaVsR/blob/master/cipher/cipher.R"
   ]
  },
  {
   "cell_type": "code",
   "execution_count": 8,
   "metadata": {
    "collapsed": false
   },
   "outputs": [],
   "source": [
    "english.letters <- c('a', 'b', 'c', 'd', 'e', 'f', 'g', 'h', 'i', 'j', 'k',\n",
    "                     'l', 'm', 'n', 'o', 'p', 'q', 'r', 's', 't', 'u', 'v',\n",
    "                     'w', 'x', 'y', 'z')\n",
    "\n",
    "caesar.cipher <- list()\n",
    "\n",
    "for (index in 1:length(english.letters))\n",
    "{\n",
    "  caesar.cipher[[english.letters[index]]] <- english.letters[index %% 26 + 1]\n",
    "}\n",
    "caesar.cipher[['-']] <- '-'"
   ]
  },
  {
   "cell_type": "code",
   "execution_count": 9,
   "metadata": {
    "collapsed": false
   },
   "outputs": [],
   "source": [
    "apply.cipher.to.string <- function(string, cipher)\n",
    "{\n",
    "  output <- ''\n",
    "\n",
    "  for (i in 1:nchar(string))\n",
    "  {\n",
    "  output <- paste(output, cipher[[substr(string, i, i)]], sep = '')\n",
    "  }\n",
    "  \n",
    "  return(output)\n",
    "}"
   ]
  },
  {
   "cell_type": "code",
   "execution_count": 10,
   "metadata": {
    "collapsed": false
   },
   "outputs": [
    {
     "data": {
      "text/html": [
       "501"
      ],
      "text/latex": [
       "501"
      ],
      "text/markdown": [
       "501"
      ],
      "text/plain": [
       "[1] 501"
      ]
     },
     "metadata": {},
     "output_type": "display_data"
    }
   ],
   "source": [
    "tmp <- \"northpole-object-storage\"\n",
    "possible <- foreach(x=1:26) %do% {\n",
    "    tmp <- apply.cipher.to.string(tmp, caesar.cipher)\n",
    "    #intersect(strsplit(tmp,'-')[[1]], words)\n",
    "    #if( intersect(strsplit(tmp,'-')[[1]], words) != \"\")\n",
    "      #  strsplit(tmp,'-')[[1]][1]\n",
    "}\n",
    "dataf$value[dataf$code==intersect(possible,dataf$code)]"
   ]
  },
  {
   "cell_type": "markdown",
   "metadata": {},
   "source": [
    "## Answers "
   ]
  },
  {
   "cell_type": "code",
   "execution_count": 11,
   "metadata": {
    "collapsed": false
   },
   "outputs": [
    {
     "data": {
      "text/html": [
       "\"Q1 -- Number of good room is  137896\""
      ],
      "text/latex": [
       "\"Q1 -- Number of good room is  137896\""
      ],
      "text/markdown": [
       "\"Q1 -- Number of good room is  137896\""
      ],
      "text/plain": [
       "[1] \"Q1 -- Number of good room is  137896\""
      ]
     },
     "metadata": {},
     "output_type": "display_data"
    },
    {
     "data": {
      "text/html": [
       "\"Q2 -- Value of the north pole storage room is  501\""
      ],
      "text/latex": [
       "\"Q2 -- Value of the north pole storage room is  501\""
      ],
      "text/markdown": [
       "\"Q2 -- Value of the north pole storage room is  501\""
      ],
      "text/plain": [
       "[1] \"Q2 -- Value of the north pole storage room is  501\""
      ]
     },
     "metadata": {},
     "output_type": "display_data"
    }
   ],
   "source": [
    "paste(\"Q1 -- Number of good room is \", sum(dataf$value[dataf$Valid]))\n",
    "paste(\"Q2 -- Value of the north pole storage room is \", dataf$value[dataf$code==intersect(possible,dataf$code)])"
   ]
  },
  {
   "cell_type": "markdown",
   "metadata": {},
   "source": [
    "### Help\n",
    "I used that to search all possible word to end up with northpole-object-storage"
   ]
  },
  {
   "cell_type": "code",
   "execution_count": 12,
   "metadata": {
    "collapsed": true
   },
   "outputs": [],
   "source": [
    "#words <- readLines(\"words.txt\")"
   ]
  },
  {
   "cell_type": "code",
   "execution_count": 13,
   "metadata": {
    "collapsed": true
   },
   "outputs": [],
   "source": [
    "#a <- apply(dataf, 1, function(x) {\n",
    "#    output <- \"\"\n",
    "#    tmp <-x[1]\n",
    "#    possible <- foreach(x=1:26) %do% {\n",
    "#        tmp <- apply.cipher.to.string(tmp, caesar.cipher)\n",
    "#        #intersect(strsplit(tmp,'-')[[1]], words)\n",
    "#        if(sum((intersect(strsplit(tmp,'-')[[1]], words)) != \"\")>0)\n",
    "#            output <- tmp\n",
    "#    }\n",
    "#    output\n",
    "#})\n",
    "#    a"
   ]
  }
 ],
 "metadata": {
  "kernelspec": {
   "display_name": "R",
   "language": "R",
   "name": "ir"
  },
  "language_info": {
   "codemirror_mode": "r",
   "file_extension": ".r",
   "mimetype": "text/x-r-source",
   "name": "R",
   "pygments_lexer": "r",
   "version": "3.3.1"
  }
 },
 "nbformat": 4,
 "nbformat_minor": 1
}
