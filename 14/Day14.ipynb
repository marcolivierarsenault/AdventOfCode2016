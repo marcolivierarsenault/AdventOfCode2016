{
 "cells": [
  {
   "cell_type": "markdown",
   "metadata": {},
   "source": [
    "# Advent of code Day 14\n",
    "\n",
    "Goal: MD5 playing in a lovely loop\n",
    "\n",
    "Ref: http://adventofcode.com/2016/day/14"
   ]
  },
  {
   "cell_type": "code",
   "execution_count": 1,
   "metadata": {
    "collapsed": true
   },
   "outputs": [],
   "source": [
    "library(digest)\n",
    "library(stringr)"
   ]
  },
  {
   "cell_type": "code",
   "execution_count": 2,
   "metadata": {
    "collapsed": true
   },
   "outputs": [],
   "source": [
    "input <- \"zpqevtbw\""
   ]
  },
  {
   "cell_type": "code",
   "execution_count": 3,
   "metadata": {
    "collapsed": false
   },
   "outputs": [],
   "source": [
    "charwith3 <- data.frame(input=integer(),\n",
    "                        md5=character(), \n",
    "                        ch=character(),\n",
    "                        valid=logical(), \n",
    "                        stringsAsFactors=FALSE) \n",
    "\n",
    "charwith5 <- data.frame(input=integer(),\n",
    "                        md5=character(), \n",
    "                        ch=character(), \n",
    "                        stringsAsFactors=FALSE) \n",
    "\n",
    "current <- 0\n",
    "goal <- 64\n",
    "finish <- 99999999\n",
    "done <- FALSE\n",
    "while(finish>=current){\n",
    "  if(sum(charwith3$valid)>=goal && finish==99999999){\n",
    "    finish <- current + 1003\n",
    "  }\n",
    "  x <- paste(input,current,sep=\"\")\n",
    "  \n",
    "  x <- digest(x,\"md5\", serialize = FALSE)\n",
    "  \n",
    "  #look for 5\n",
    "  search <- TRUE\n",
    "  aa<-x\n",
    "  ttt <- str_match(aa,\"(.)\\\\1{4,}\")\n",
    "  if((!is.na(ttt[1]))){\n",
    "    cht <- ttt[2]\n",
    "    charwith5<-rbind(charwith5,data.frame(input=current,md5=x,ch=cht,valid=FALSE))\n",
    "    charwith3$valid[charwith3$ch==cht & charwith3$input>current-1001] <- TRUE\n",
    "    charwith3$solver[charwith3$ch==cht & charwith3$input>current-1001] <- current\n",
    "  }\n",
    "  \n",
    "  #Look for 3\n",
    "  aa<-x\n",
    "  ttt <- str_match(aa,\"(.)\\\\1{2,}\")\n",
    "  if((!is.na(ttt[1]))){\n",
    "    cht <- ttt[2]\n",
    "    charwith3<-rbind(charwith3,data.frame(input=current,md5=x,ch=cht,solver=0,valid=FALSE))\n",
    "  }\n",
    "  \n",
    "  \n",
    "  current <- current+1\n",
    "}"
   ]
  },
  {
   "cell_type": "code",
   "execution_count": 4,
   "metadata": {
    "collapsed": false
   },
   "outputs": [],
   "source": [
    "Q1 <- charwith3$input[charwith3$valid][64]"
   ]
  },
  {
   "cell_type": "code",
   "execution_count": 5,
   "metadata": {
    "collapsed": false
   },
   "outputs": [],
   "source": [
    "charwith3 <- data.frame(input=integer(),\n",
    "                        md5=character(), \n",
    "                        ch=character(),\n",
    "                        valid=logical(), \n",
    "                        stringsAsFactors=FALSE) \n",
    "\n",
    "charwith5 <- data.frame(input=integer(),\n",
    "                        md5=character(), \n",
    "                        ch=character(), \n",
    "                        stringsAsFactors=FALSE) \n",
    "\n",
    "current <- 0\n",
    "goal <- 64\n",
    "finish <- 99999999\n",
    "done <- FALSE\n",
    "while(finish>=current){\n",
    "  if(sum(charwith3$valid)>=goal && finish==99999999){\n",
    "    finish <- current + 1001\n",
    "  }\n",
    "  x <- paste(input,current,sep=\"\")\n",
    "  \n",
    "  for (i in 1:2017) {\n",
    "    x <- digest(x,\"md5\", serialize = FALSE)\n",
    "}\n",
    "  #look for 5\n",
    "  search <- TRUE\n",
    "  aa<-x\n",
    "  ttt <- str_match(aa,\"(.)\\\\1{4,}\")\n",
    "  if((!is.na(ttt[1]))){\n",
    "    cht <- ttt[2]\n",
    "    charwith5<-rbind(charwith5,data.frame(input=current,md5=x,ch=cht,valid=FALSE))\n",
    "    charwith3$valid[charwith3$ch==cht & charwith3$input>current-1001] <- TRUE\n",
    "    charwith3$solver[charwith3$ch==cht & charwith3$input>current-1001] <- current\n",
    "  }\n",
    "  \n",
    "  #Look for 3\n",
    "  aa<-x\n",
    "  ttt <- str_match(aa,\"(.)\\\\1{2,}\")\n",
    "  if((!is.na(ttt[1]))){\n",
    "    cht <- ttt[2]\n",
    "    charwith3<-rbind(charwith3,data.frame(input=current,md5=x,ch=cht,solver=0,valid=FALSE))\n",
    "  }\n",
    "  \n",
    "  \n",
    "  current <- current+1\n",
    "}"
   ]
  },
  {
   "cell_type": "code",
   "execution_count": 6,
   "metadata": {
    "collapsed": true
   },
   "outputs": [],
   "source": [
    "Q2 <- charwith3$input[charwith3$valid][64]"
   ]
  },
  {
   "cell_type": "code",
   "execution_count": 7,
   "metadata": {
    "collapsed": false
   },
   "outputs": [
    {
     "name": "stdout",
     "output_type": "stream",
     "text": [
      "Q1 - The 64th key is produce by the index =  16106 \n",
      "Q2 - The 64th key is produce by the index =  22423 \n"
     ]
    }
   ],
   "source": [
    "cat(\"Q1 - The 64th key is produce by the index = \", Q1, '\\n')\n",
    "cat(\"Q2 - The 64th key is produce by the index = \", Q2, '\\n')"
   ]
  }
 ],
 "metadata": {
  "anaconda-cloud": {},
  "kernelspec": {
   "display_name": "R",
   "language": "R",
   "name": "ir"
  },
  "language_info": {
   "codemirror_mode": "r",
   "file_extension": ".r",
   "mimetype": "text/x-r-source",
   "name": "R",
   "pygments_lexer": "r",
   "version": "3.3.1"
  }
 },
 "nbformat": 4,
 "nbformat_minor": 1
}
