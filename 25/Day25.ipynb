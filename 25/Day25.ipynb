{
 "cells": [
  {
   "cell_type": "markdown",
   "metadata": {},
   "source": [
    "# Advent of code Day 25\n",
    "\n",
    "Goal: Looks to be a clone of day 12-23.\n",
    "Hint: need to realize the logic of the puzzle (input algo)\n",
    "\n",
    "Ref: http://adventofcode.com/2016/day/25"
   ]
  },
  {
   "cell_type": "code",
   "execution_count": 1,
   "metadata": {
    "collapsed": true
   },
   "outputs": [],
   "source": [
    "library(\"stringr\")\n",
    "options(warn=-1)"
   ]
  },
  {
   "cell_type": "code",
   "execution_count": 2,
   "metadata": {
    "collapsed": false
   },
   "outputs": [],
   "source": [
    "instructions <- readLines(\"data.txt\")\n",
    "wantedOutput <- paste(rep(\"01\",20),collapse=\"\")"
   ]
  },
  {
   "cell_type": "code",
   "execution_count": 3,
   "metadata": {
    "collapsed": false
   },
   "outputs": [],
   "source": [
    "getCustomValue <- function(bf,x){\n",
    "    if (x=='a'|x=='b'|x=='c'|x=='d')\n",
    "        return(bf[x])\n",
    "    return(x)\n",
    "}"
   ]
  },
  {
   "cell_type": "markdown",
   "metadata": {},
   "source": [
    "### Puzzle logic\n",
    "\n",
    "After looking at the logic I realized that the patern was quite simple, It is trying to display the lsb of a + 2534 (362*7) followed by a right shift. (forever)\n",
    "\n",
    "So for it to work we need that \n",
    "~~~~\n",
    "a + 2534 = 0xaaa (0b101010101010)\n",
    "~~~~\n",
    "\n",
    "So with my input a = <b>196</b>"
   ]
  },
  {
   "cell_type": "code",
   "execution_count": 4,
   "metadata": {
    "collapsed": false
   },
   "outputs": [
    {
     "name": "stdout",
     "output_type": "stream",
     "text": [
      "Q1- Value in the A buffer to get the pattern is 196  \n"
     ]
    }
   ],
   "source": [
    "cat(\"Q1- Value in the A buffer to get the pattern is 196 \",'\\n')"
   ]
  },
  {
   "cell_type": "markdown",
   "metadata": {},
   "source": [
    "### BONUS\n",
    "Here is the code to get the value (bruteforce)\n",
    "Starting close to wanted value to save time"
   ]
  },
  {
   "cell_type": "code",
   "execution_count": 5,
   "metadata": {
    "collapsed": false
   },
   "outputs": [
    {
     "data": {
      "text/html": [
       "196"
      ],
      "text/latex": [
       "196"
      ],
      "text/markdown": [
       "196"
      ],
      "text/plain": [
       "[1] 196"
      ]
     },
     "metadata": {},
     "output_type": "display_data"
    }
   ],
   "source": [
    "current <- 190\n",
    "found <- FALSE\n",
    "while(!found){\n",
    "  currentOutput <- \"\"\n",
    "  position <- 1\n",
    "  buffer <- list(a=current,b=0,c=0,d=0)\n",
    "  while(position <= length(instructions)){\n",
    "    instruc <- str_split(instructions[position],\" \")[[1]]\n",
    "    switch(instruc[1], \n",
    "           cpy={\n",
    "             if(is.na(as.numeric(instruc[3]))){\n",
    "               buffer[instruc[3]] <- as.integer(getCustomValue(buffer,instruc[2]))\n",
    "             }\n",
    "             else {\n",
    "               print(\"------------------\")\n",
    "             }\n",
    "             position <- position+1\n",
    "           },\n",
    "           inc={\n",
    "             if(is.na(as.numeric(instruc[2]))){\n",
    "               buffer[instruc[2]] <- as.integer(buffer[instruc[2]]) + 1\n",
    "             }\n",
    "             position <- position+1\n",
    "           },\n",
    "           dec={\n",
    "             if(is.na(as.numeric(instruc[2]))){\n",
    "               buffer[instruc[2]] <- as.integer(buffer[instruc[2]]) - 1\n",
    "             }  \n",
    "             position <- position+1\n",
    "           },\n",
    "           out={\n",
    "             vv <- getCustomValue(buffer,instruc[2])\n",
    "             currentOutput <- paste(c(currentOutput,vv),collapse=\"\")\n",
    "             if(!startsWith(wantedOutput,currentOutput)){\n",
    "               current <<- current + 1\n",
    "               break\n",
    "             } else if(nchar(currentOutput)>30){\n",
    "               found <- TRUE\n",
    "               break\n",
    "             }\n",
    "             position <- position+1\n",
    "           },\n",
    "           tgl={\n",
    "             toChange <- as.integer(getCustomValue(buffer,instruc[2])) + position\n",
    "             if(toChange<=length(instructions)){\n",
    "               newInstruct <- str_split(instructions[toChange],\" \")[[1]]\n",
    "               if(length(newInstruct) == 2){\n",
    "                 if (newInstruct[1]==\"inc\"){\n",
    "                   newInstruct[1] <- \"dec\"\n",
    "                 } else {\n",
    "                   newInstruct[1] <- \"inc\"\n",
    "                 }\n",
    "               } else {\n",
    "                 if (newInstruct[1]==\"jnz\"){\n",
    "                   newInstruct[1] <- \"cpy\"\n",
    "                 } else {\n",
    "                   newInstruct[1] <- \"jnz\"\n",
    "                 }\n",
    "               }\n",
    "               instructions[toChange] <- paste(newInstruct, collapse = \" \")\n",
    "             }\n",
    "             position <- position+1\n",
    "           },\n",
    "           jnz={\n",
    "             if(as.integer(getCustomValue(buffer,instruc[2]))!=0){\n",
    "               position <- position + as.integer(getCustomValue(buffer,instruc[3]))\n",
    "             } \n",
    "             \n",
    "             else{\n",
    "               position <- position+1\n",
    "             }\n",
    "           },\n",
    "           {\n",
    "             print('default')\n",
    "           }\n",
    "    )\n",
    "  }\n",
    "}\n",
    "current"
   ]
  }
 ],
 "metadata": {
  "anaconda-cloud": {},
  "kernelspec": {
   "display_name": "R",
   "language": "R",
   "name": "ir"
  },
  "language_info": {
   "codemirror_mode": "r",
   "file_extension": ".r",
   "mimetype": "text/x-r-source",
   "name": "R",
   "pygments_lexer": "r",
   "version": "3.3.1"
  }
 },
 "nbformat": 4,
 "nbformat_minor": 1
}
