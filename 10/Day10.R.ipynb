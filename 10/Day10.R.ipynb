{
 "cells": [
  {
   "cell_type": "markdown",
   "metadata": {},
   "source": [
    "# Advent of code Day 10\n",
    "\n",
    "Goal: Value assigned to a logical network\n",
    "\n",
    "Ref: http://adventofcode.com/2016/day/10"
   ]
  },
  {
   "cell_type": "code",
   "execution_count": 1,
   "metadata": {
    "collapsed": true
   },
   "outputs": [],
   "source": [
    "library(stringr)"
   ]
  },
  {
   "cell_type": "code",
   "execution_count": 2,
   "metadata": {
    "collapsed": true
   },
   "outputs": [],
   "source": [
    "data <- readLines(\"data.txt\")"
   ]
  },
  {
   "cell_type": "code",
   "execution_count": 3,
   "metadata": {
    "collapsed": false
   },
   "outputs": [],
   "source": [
    "robotDB <- data.frame(id = integer(0), Low= integer(0), High = integer(0))\n",
    "robotDB[1, ] <- c(-1,-1,-1)"
   ]
  },
  {
   "cell_type": "code",
   "execution_count": 4,
   "metadata": {
    "collapsed": true
   },
   "outputs": [],
   "source": [
    "output <- data.frame(id = integer(0), value= integer(0))\n",
    "output[1, ] <- c(-1,-1)"
   ]
  },
  {
   "cell_type": "code",
   "execution_count": 5,
   "metadata": {
    "collapsed": false
   },
   "outputs": [],
   "source": [
    "addToRobot <- function(robot,value) {    \n",
    "    rr <- robotDB[robotDB$id==robot,]\n",
    "    if(nrow(rr)==0){#do not exist\n",
    "        robotDB <<- rbind(robotDB, c(id=robot, Low=value, High=-1))\n",
    "    }\n",
    "    else{\n",
    "        low <- rr$Low\n",
    "        if(as.integer(low)<=as.integer(value)){\n",
    "            robotDB[robotDB$id==robot,3] <<- value\n",
    "        }\n",
    "        else{\n",
    "            robotDB[robotDB$id==robot,3] <<- low\n",
    "            robotDB[robotDB$id==robot,2] <<- value\n",
    "        }\n",
    "        handleFull(robot)\n",
    "    }\n",
    "}\n",
    "\n",
    "handleFull <- function(robot) {\n",
    "    \n",
    "    if(toString(assign[which(assign$robot == robot), 4]) == \"bot\"){\n",
    "        addToRobot(toString(assign[which(assign$robot == robot), 5]),robotDB[robotDB$id==robot,3])#high\n",
    "    }\n",
    "    else {\n",
    "        output <<- rbind(output, c(id=toString(assign[which(assign$robot == robot), 5]), Low=robotDB[robotDB$id==robot,3]))\n",
    "    }\n",
    "     if(toString(assign[which(assign$robot == robot), 2]) == \"bot\"){\n",
    "        addToRobot(toString(assign[which(assign$robot == robot), 3]),robotDB[robotDB$id==robot,2])#low\n",
    "    }\n",
    "    else {\n",
    "        output <<- rbind(output, c(id=toString(assign[which(assign$robot == robot), 3]), Low=robotDB[robotDB$id==robot,2]))\n",
    "    }\n",
    "    \n",
    "}"
   ]
  },
  {
   "cell_type": "code",
   "execution_count": 6,
   "metadata": {
    "collapsed": false
   },
   "outputs": [],
   "source": [
    "start <- str_match(data,\"^value.*[ ](\\\\d+)[ ].*[ ](\\\\d+)$\" )\n",
    "value <- as.data.frame(start[,2:3])\n",
    "value <- value[complete.cases(value),]\n",
    "colnames(value) <- c(\"value\",\"robot\")"
   ]
  },
  {
   "cell_type": "code",
   "execution_count": 7,
   "metadata": {
    "collapsed": false
   },
   "outputs": [],
   "source": [
    "start <- str_match(data,\"^bot (\\\\d+) .* (\\\\w*) (\\\\d+)[ ].* (\\\\w*) (\\\\d+)$\" )\n",
    "assign <- as.data.frame(start[,-1])\n",
    "assign <- assign[complete.cases(assign),]\n",
    "colnames(assign) <- c(\"robot\",\"lowType\",\"low\",\"highType\",\"high\")"
   ]
  },
  {
   "cell_type": "code",
   "execution_count": 8,
   "metadata": {
    "collapsed": false
   },
   "outputs": [],
   "source": [
    "a <- apply(value, 1,  function(x) {addToRobot(x[2],x[1])})"
   ]
  },
  {
   "cell_type": "code",
   "execution_count": 9,
   "metadata": {
    "collapsed": false
   },
   "outputs": [
    {
     "data": {
      "text/html": [
       "\"116\""
      ],
      "text/latex": [
       "\"116\""
      ],
      "text/markdown": [
       "\"116\""
      ],
      "text/plain": [
       "[1] \"116\""
      ]
     },
     "metadata": {},
     "output_type": "display_data"
    }
   ],
   "source": [
    "robotDB[ which(robotDB$Low==17 \n",
    "& robotDB$High == 61), ]$id"
   ]
  },
  {
   "cell_type": "code",
   "execution_count": 10,
   "metadata": {
    "collapsed": false
   },
   "outputs": [
    {
     "data": {
      "text/html": [
       "23903"
      ],
      "text/latex": [
       "23903"
      ],
      "text/markdown": [
       "23903"
      ],
      "text/plain": [
       "[1] 23903"
      ]
     },
     "metadata": {},
     "output_type": "display_data"
    }
   ],
   "source": [
    "prod(as.integer(output[ which(output$id=='0' |output$id=='1' |output$id=='2'), 2]))"
   ]
  }
 ],
 "metadata": {
  "anaconda-cloud": {},
  "kernelspec": {
   "display_name": "R",
   "language": "R",
   "name": "ir"
  },
  "language_info": {
   "codemirror_mode": "r",
   "file_extension": ".r",
   "mimetype": "text/x-r-source",
   "name": "R",
   "pygments_lexer": "r",
   "version": "3.3.1"
  }
 },
 "nbformat": 4,
 "nbformat_minor": 1
}
